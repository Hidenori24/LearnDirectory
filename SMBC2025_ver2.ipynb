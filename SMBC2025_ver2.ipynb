{
  "nbformat": 4,
  "nbformat_minor": 0,
  "metadata": {
    "colab": {
      "provenance": [],
      "authorship_tag": "ABX9TyOnexZx1yI9jz5Pura2bye6",
      "include_colab_link": true
    },
    "kernelspec": {
      "name": "python3",
      "display_name": "Python 3"
    },
    "language_info": {
      "name": "python"
    }
  },
  "cells": [
    {
      "cell_type": "markdown",
      "metadata": {
        "id": "view-in-github",
        "colab_type": "text"
      },
      "source": [
        "<a href=\"https://colab.research.google.com/github/Hidenori24/LearnDirectory/blob/master/SMBC2025_ver2.ipynb\" target=\"_parent\"><img src=\"https://colab.research.google.com/assets/colab-badge.svg\" alt=\"Open In Colab\"/></a>"
      ]
    },
    {
      "cell_type": "markdown",
      "source": [
        "# 0. ライブラリセットアップ\n"
      ],
      "metadata": {
        "id": "5idmRN9YE8EI"
      }
    },
    {
      "cell_type": "code",
      "execution_count": 46,
      "metadata": {
        "id": "0ZWUiAp_EmOg"
      },
      "outputs": [],
      "source": [
        "# ============================================\n",
        "# 0. ライブラリ & CFG 定義\n",
        "# ============================================\n",
        "!pip install -q xgboost optuna japanize-matplotlib folium\n",
        "\n",
        "import os, warnings, random\n",
        "import pandas as pd\n",
        "import numpy as np\n",
        "import matplotlib.pyplot as plt\n",
        "import seaborn as sns\n",
        "import japanize_matplotlib\n",
        "import folium\n",
        "from xgboost import XGBRegressor\n",
        "import optuna\n",
        "from sklearn.metrics import mean_squared_error, r2_score\n",
        "\n",
        "warnings.filterwarnings(\"ignore\")\n",
        "\n",
        "# ---------- CFG ----------\n",
        "class CFG:\n",
        "    seed         = 42\n",
        "\n",
        "    data_path    = '/content/drive/MyDrive/ML/Signate_1634/'\n",
        "    corr_threshold = 0.13                 # 相関係数の閾値\n",
        "    comfort_index  = 65                   # 不快指数の快適基準\n",
        "    optuna_trials  = 50                   # Optuna 試行回数\n",
        "\n",
        "\n",
        "# set seed\n",
        "random.seed(CFG.seed)\n",
        "np.random.seed(CFG.seed)\n"
      ]
    },
    {
      "cell_type": "markdown",
      "source": [
        "# 1. Google Drive マウント\n"
      ],
      "metadata": {
        "id": "fMaGVka5FB7A"
      }
    },
    {
      "cell_type": "code",
      "source": [
        "# ============================================\n",
        "# 1. Google Drive マウント\n",
        "# ============================================\n",
        "from google.colab import drive\n",
        "drive.mount('/content/drive', force_remount=True)\n"
      ],
      "metadata": {
        "colab": {
          "base_uri": "https://localhost:8080/"
        },
        "id": "jG6UMAE3Eqdv",
        "outputId": "ef09ca4f-b562-4373-ec0c-8da1aac590ed"
      },
      "execution_count": 47,
      "outputs": [
        {
          "output_type": "stream",
          "name": "stdout",
          "text": [
            "Mounted at /content/drive\n"
          ]
        }
      ]
    },
    {
      "cell_type": "markdown",
      "source": [
        "# 2. データ読み込み"
      ],
      "metadata": {
        "id": "guK8i2niFK0K"
      }
    },
    {
      "cell_type": "code",
      "source": [
        "# =========================================================\n",
        "# 2. データ読み込み\n",
        "#    - index を DatetimeIndex（UTC）に\n",
        "# =========================================================\n",
        "def read_data(path: str) -> pd.DataFrame:\n",
        "    df = pd.read_csv(path)                 # まずは普通に読み込み\n",
        "    df['time'] = pd.to_datetime(df['time'], utc=True)   # ①文字列→datetime(UTC)\n",
        "    df['time'] = df['time'].dt.tz_convert(None)         # ②タイムゾーン情報を外す（naive へ）\n",
        "    df = df.set_index('time').sort_index()              # ③DatetimeIndex として設定\n",
        "    return df\n",
        "\n",
        "train_df = read_data(os.path.join(CFG.data_path, 'train.csv'))\n",
        "test_df  = read_data(os.path.join(CFG.data_path, 'test.csv'))\n",
        "\n",
        "# タイムゾーンを UTC→Etc/GMT-1 に変換\n",
        "train_df.index = pd.to_datetime(train_df.index, utc=True).tz_convert('Etc/GMT-1')\n",
        "test_df.index = pd.to_datetime(test_df.index,  utc=True).tz_convert('Etc/GMT-1')\n",
        "\n",
        "print('train', train_df.shape, 'test', test_df.shape)\n",
        "\n"
      ],
      "metadata": {
        "colab": {
          "base_uri": "https://localhost:8080/"
        },
        "id": "xJKz_c6jEsq1",
        "outputId": "3112e209-6f08-4ea1-b5f5-0e9d4641f42c"
      },
      "execution_count": 48,
      "outputs": [
        {
          "output_type": "stream",
          "name": "stdout",
          "text": [
            "train (26280, 91) test (8760, 90)\n"
          ]
        }
      ]
    },
    {
      "cell_type": "markdown",
      "source": [
        "#3 前処理"
      ],
      "metadata": {
        "id": "OTed2aDH_i-D"
      }
    },
    {
      "cell_type": "code",
      "source": [
        "import holidays\n",
        "from sklearn.metrics import mean_squared_error\n",
        "from sklearn.model_selection import TimeSeriesSplit\n",
        "import lightgbm as lgb\n",
        "\n",
        "# weather_main, weather_icon, weather_id 列の削除\n",
        "for kw in ['weather_main','weather_icon','weather_id']:\n",
        "    cols = [c for c in train_df.columns if kw in c]\n",
        "    train_df.drop(columns=cols, inplace=True)\n",
        "    test_df.drop(columns=cols, inplace=True)\n",
        "\n",
        "# 値がすべて同じ列の削除\n",
        "constant_cols = [c for c in train_df.columns if train_df[c].nunique() == 1]\n",
        "train_df.drop(columns=constant_cols, inplace=True)\n",
        "test_df.drop(columns=constant_cols, inplace=True)\n",
        "\n",
        "# 大気圧のクリッピング（1090 hPa で上限）\n",
        "pressure_cols = [c for c in train_df.columns if 'pressure' in c]\n",
        "train_df[pressure_cols] = train_df[pressure_cols].clip(upper=1090)\n",
        "test_df [pressure_cols] = test_df [pressure_cols].clip(upper=1090)\n",
        "\n",
        "# 風速のクリッピング（18 m/s で上限）\n",
        "wind_cols = [c for c in train_df.columns if 'wind_speed' in c]\n",
        "train_df[wind_cols] = train_df[wind_cols].clip(upper=18)\n",
        "test_df [wind_cols] = test_df [wind_cols].clip(upper=18)\n",
        "\n",
        "# 欠損値を前方埋め、後方埋め\n",
        "train_df.ffill(inplace=True); train_df.bfill(inplace=True)\n",
        "test_df .ffill(inplace=True); test_df .bfill(inplace=True)"
      ],
      "metadata": {
        "id": "nbHCwFeo7TmI"
      },
      "execution_count": 49,
      "outputs": []
    },
    {
      "cell_type": "markdown",
      "source": [
        "# 4. 不快指数 → 差分絶対値"
      ],
      "metadata": {
        "id": "dTc-JyB1FMV0"
      }
    },
    {
      "cell_type": "code",
      "source": [
        "#  大気圧の上下クリップ (下限900hPa, 上限1090hPa)\n",
        "pressure_columns = [col for col in train_df.columns if 'pressure' in col]\n",
        "train_df[pressure_columns] = train_df[pressure_columns].clip(lower=900, upper=1090)\n",
        "test_df [pressure_columns] = test_df [pressure_columns].clip(lower=900, upper=1090)\n",
        "\n",
        "\n",
        "def discomfort_index(temp_k, hum):\n",
        "    # ケルビン→摂氏変換\n",
        "    temp_c = temp_k - 273.15\n",
        "    # temp_c * 0.99 - 14.3 を使った不快指数\n",
        "    return temp_c * 0.81 + (hum / 100) * (temp_c * 0.99 - 14.3) + 46.3\n",
        "\n",
        "for city in ['valencia','madrid','bilbao','barcelona','seville']:\n",
        "    # “生”不快指数\n",
        "    train_df[f'di_{city}']      = discomfort_index(train_df[f'{city}_temp'], train_df[f'{city}_humidity'])\n",
        "    test_df [f'di_{city}']      = discomfort_index(test_df [f'{city}_temp'], test_df [f'{city}_humidity'])\n",
        "    # 快適基準CFG.comfort_indexとの差分絶対値\n",
        "    train_df[f'di_{city}_diff_abs'] = (train_df[f'di_{city}'] - CFG.comfort_index).abs()\n",
        "    test_df [f'di_{city}_diff_abs'] = (test_df [f'di_{city}'] - CFG.comfort_index).abs()\n",
        "\n",
        "# 元の temp, humidity, “生”不快指数列は不要なので削除\n",
        "drop_cols = [\n",
        "    c for c in train_df.columns\n",
        "    if ('_temp' in c) or ('_humidity' in c) or (c.startswith('di_') and not c.endswith('_diff_abs'))\n",
        "]\n",
        "train_df.drop(columns=drop_cols, inplace=True)\n",
        "test_df .drop(columns=drop_cols, inplace=True)\n",
        "\n",
        "# ============================================\n",
        "# 5. generation_sum を追加\n",
        "# ============================================\n",
        "gen_cols = [c for c in train_df.columns if c.startswith('generation')]\n",
        "train_df['generation_sum'] = train_df[gen_cols].sum(axis=1)\n",
        "test_df ['generation_sum'] = test_df [gen_cols].sum(axis=1)\n",
        "\n",
        "# ============================================\n",
        "# 6. 相関係数で特徴量選択（数値列のみで計算）\n",
        "# ============================================\n",
        "# 数値列だけを抽出\n",
        "numeric_cols = train_df.select_dtypes(include=[np.number]).columns\n",
        "\n",
        "# 数値列同士の相関行列を計算し、price_actual との相関を取得\n",
        "corr = train_df[numeric_cols].corr()['price_actual'].abs()\n",
        "\n",
        "# 閾値以上かつ price_actual 自身は除外\n",
        "use_cols = corr[corr > CFG.corr_threshold].index.drop('price_actual').tolist()\n",
        "print(\"選択された特徴量:\", use_cols)\n",
        "\n",
        "# ============================================\n",
        "# 7. 日付情報の追加 & One-Hot\n",
        "# ============================================\n",
        "for df in [train_df, test_df]:\n",
        "    df.index = pd.to_datetime(df.index)  # 念のため\n",
        "    df['month']   = df.index.month       # ←ここを追加！\n",
        "    df['hour']    = df.index.hour\n",
        "    df['weekday'] = df.index.dayofweek\n",
        "    df['day_cat'] = df.index.day.map(lambda d: 0 if d <= 10 else 1 if d <= 20 else 2)\n",
        "# month は one-hot に\n",
        "train_df = pd.get_dummies(train_df, columns=['month'], prefix='month', drop_first=True)\n",
        "test_df  = pd.get_dummies(test_df,  columns=['month'], prefix='month', drop_first=True)"
      ],
      "metadata": {
        "colab": {
          "base_uri": "https://localhost:8080/"
        },
        "id": "xNTw5dRGEuCe",
        "outputId": "f6c88085-f101-48f9-88df-b22daf75b67e"
      },
      "execution_count": 50,
      "outputs": [
        {
          "output_type": "stream",
          "name": "stdout",
          "text": [
            "選択された特徴量: ['generation_biomass', 'generation_fossil_brown_coal/lignite', 'generation_fossil_gas', 'generation_fossil_hard_coal', 'generation_fossil_oil', 'generation_hydro_pumped_storage_consumption', 'generation_hydro_run_of_river_and_poundage', 'total_load_actual', 'valencia_wind_speed', 'madrid_wind_speed', 'bilbao_pressure', 'bilbao_wind_speed', 'bilbao_clouds_all', 'barcelona_pressure', 'barcelona_wind_speed', 'seville_pressure', 'seville_wind_deg', 'di_valencia_diff_abs', 'generation_sum']\n"
          ]
        }
      ]
    },
    {
      "cell_type": "markdown",
      "source": [
        "# 8.学習／検証データの準備"
      ],
      "metadata": {
        "id": "PfqCv0ijFOM0"
      }
    },
    {
      "cell_type": "code",
      "source": [
        "X = train_df[use_cols + ['hour','weekday','day_cat'] + [c for c in train_df.columns if c.startswith('month_')]]\n",
        "y = train_df['price_actual']\n",
        "X_test = test_df[X.columns]  # テストデータの列順を合わせる\n",
        "\n",
        "X_train = X[train_df.index.year < 2017]\n",
        "y_train = y[train_df.index.year < 2017]\n",
        "X_val   = X[train_df.index.year == 2017]\n",
        "y_val   = y[train_df.index.year == 2017]\n",
        "\n",
        "print(\"train:\", X_train.shape, \"val:\", X_val.shape, \"test:\", X_test.shape)"
      ],
      "metadata": {
        "id": "KIQ-glPpEweF",
        "colab": {
          "base_uri": "https://localhost:8080/"
        },
        "outputId": "784b5d85-ecf3-48f3-f69f-0ad690d45363"
      },
      "execution_count": 51,
      "outputs": [
        {
          "output_type": "stream",
          "name": "stdout",
          "text": [
            "train: (17520, 33) val: (8760, 33) test: (8760, 33)\n"
          ]
        }
      ]
    },
    {
      "cell_type": "markdown",
      "source": [
        "# 9. Optuna によるパラメータチューニング"
      ],
      "metadata": {
        "id": "Kgev0x-kFPg7"
      }
    },
    {
      "cell_type": "code",
      "source": [
        "def objective(trial):\n",
        "    params = {\n",
        "        'objective':        'reg:quantileerror',\n",
        "        'eval_metric':      'rmse',\n",
        "        'learning_rate':    trial.suggest_float('learning_rate', 0.001, 0.2),\n",
        "        'n_estimators':     trial.suggest_int('n_estimators', 100, 1000),\n",
        "        'max_depth':        trial.suggest_int('max_depth', 5, 10),\n",
        "        'min_child_weight': trial.suggest_int('min_child_weight', 1, 10),\n",
        "        'gamma':            trial.suggest_float('gamma', 0.001, 0.1),\n",
        "        'subsample':        trial.suggest_float('subsample', 0.5, 1.0),\n",
        "        'colsample_bytree': trial.suggest_float('colsample_bytree', 0.5, 1.0),\n",
        "        'lambda':           trial.suggest_float('lambda', 0.001, 1.0),\n",
        "        'quantile_alpha':   trial.suggest_float('quantile_alpha', 0.7, 0.9),\n",
        "        'verbosity':        0,\n",
        "        'random_state':     CFG.seed\n",
        "    }\n",
        "    model = XGBRegressor(**params)\n",
        "    model.fit(X_train, y_train)\n",
        "    preds = model.predict(X_val)\n",
        "    # RMSE を自前で計算\n",
        "    rmse = np.sqrt(mean_squared_error(y_val, preds))\n",
        "    return rmse\n",
        "\n",
        "study = optuna.create_study(direction='minimize',\n",
        "                            sampler=optuna.samplers.TPESampler(seed=CFG.seed))\n",
        "study.optimize(objective, n_trials=CFG.optuna_trials)\n",
        "best_params = study.best_params\n",
        "print(\"Best Params:\", best_params)"
      ],
      "metadata": {
        "colab": {
          "base_uri": "https://localhost:8080/"
        },
        "id": "8rJWMv2JEx8O",
        "outputId": "26e7e78e-480f-4204-b53f-83e51d329933"
      },
      "execution_count": 52,
      "outputs": [
        {
          "output_type": "stream",
          "name": "stderr",
          "text": [
            "[I 2025-06-17 04:14:20,915] A new study created in memory with name: no-name-65b9f003-5c36-4381-bfb0-aeaabc0be80b\n",
            "[I 2025-06-17 04:14:45,832] Trial 0 finished with value: 9.656932323910109 and parameters: {'learning_rate': 0.07553348365062514, 'n_estimators': 956, 'max_depth': 9, 'min_child_weight': 6, 'gamma': 0.016445845403801215, 'subsample': 0.5779972601681014, 'colsample_bytree': 0.5290418060840998, 'lambda': 0.8663099696291603, 'quantile_alpha': 0.8202230023486418}. Best is trial 0 with value: 9.656932323910109.\n",
            "[I 2025-06-17 04:14:47,523] Trial 1 finished with value: 9.556133422833238 and parameters: {'learning_rate': 0.14190644298141306, 'n_estimators': 118, 'max_depth': 10, 'min_child_weight': 9, 'gamma': 0.022021571957149343, 'subsample': 0.5909124836035503, 'colsample_bytree': 0.5917022549267169, 'lambda': 0.3049380007165782, 'quantile_alpha': 0.8049512863264475}. Best is trial 1 with value: 9.556133422833238.\n",
            "[I 2025-06-17 04:14:54,687] Trial 2 finished with value: 10.145259232793066 and parameters: {'learning_rate': 0.08695705870978104, 'n_estimators': 362, 'max_depth': 8, 'min_child_weight': 2, 'gamma': 0.0299223202049866, 'subsample': 0.6831809216468459, 'colsample_bytree': 0.728034992108518, 'lambda': 0.7853907854316206, 'quantile_alpha': 0.739934756431672}. Best is trial 1 with value: 9.556133422833238.\n",
            "[I 2025-06-17 04:14:58,459] Trial 3 finished with value: 9.552247802828603 and parameters: {'learning_rate': 0.10333265324430871, 'n_estimators': 633, 'max_depth': 5, 'min_child_weight': 7, 'gamma': 0.017881888245041864, 'subsample': 0.5325257964926398, 'colsample_bytree': 0.9744427686266666, 'lambda': 0.9656664010414848, 'quantile_alpha': 0.8616794696232922}. Best is trial 3 with value: 9.552247802828603.\n",
            "[I 2025-06-17 04:15:01,046] Trial 4 finished with value: 9.612048055108499 and parameters: {'learning_rate': 0.06161814006550077, 'n_estimators': 188, 'max_depth': 9, 'min_child_weight': 5, 'gamma': 0.013081785249633104, 'subsample': 0.7475884550556351, 'colsample_bytree': 0.5171942605576092, 'lambda': 0.9094110816767033, 'quantile_alpha': 0.7517559963200033}. Best is trial 3 with value: 9.552247802828603.\n",
            "[I 2025-06-17 04:15:08,447] Trial 5 finished with value: 9.812103974293436 and parameters: {'learning_rate': 0.13284193458644242, 'n_estimators': 380, 'max_depth': 8, 'min_child_weight': 6, 'gamma': 0.01930059109702718, 'subsample': 0.9847923138822793, 'colsample_bytree': 0.8875664116805573, 'lambda': 0.9395594426226249, 'quantile_alpha': 0.8789654700855298}. Best is trial 3 with value: 9.552247802828603.\n",
            "[I 2025-06-17 04:15:13,778] Trial 6 finished with value: 9.569816348991237 and parameters: {'learning_rate': 0.11998209578340595, 'n_estimators': 930, 'max_depth': 5, 'min_child_weight': 2, 'gamma': 0.0054775016021432685, 'subsample': 0.6626651653816322, 'colsample_bytree': 0.6943386448447411, 'lambda': 0.272077682742122, 'quantile_alpha': 0.8657475018303858}. Best is trial 3 with value: 9.552247802828603.\n",
            "[I 2025-06-17 04:15:21,266] Trial 7 finished with value: 10.755847157491521 and parameters: {'learning_rate': 0.07199391201202428, 'n_estimators': 353, 'max_depth': 8, 'min_child_weight': 2, 'gamma': 0.08041750109464993, 'subsample': 0.5372753218398854, 'colsample_bytree': 0.9934434683002586, 'lambda': 0.7724725245273608, 'quantile_alpha': 0.7397431363068344}. Best is trial 3 with value: 9.552247802828603.\n",
            "[I 2025-06-17 04:15:35,354] Trial 8 finished with value: 10.87785660703455 and parameters: {'learning_rate': 0.0020989013075968775, 'n_estimators': 834, 'max_depth': 9, 'min_child_weight': 8, 'gamma': 0.07735576432190863, 'subsample': 0.5370223258670452, 'colsample_bytree': 0.6792328642721364, 'lambda': 0.11675319046560459, 'quantile_alpha': 0.8726206851751187}. Best is trial 3 with value: 9.552247802828603.\n",
            "[I 2025-06-17 04:15:38,056] Trial 9 finished with value: 9.980234165087865 and parameters: {'learning_rate': 0.12503632723868402, 'n_estimators': 398, 'max_depth': 5, 'min_child_weight': 4, 'gamma': 0.03319314888064796, 'subsample': 0.864803089169032, 'colsample_bytree': 0.8187787356776066, 'lambda': 0.8873255298337502, 'quantile_alpha': 0.7944429850323899}. Best is trial 3 with value: 9.552247802828603.\n",
            "[I 2025-06-17 04:15:46,300] Trial 10 finished with value: 10.58676687077518 and parameters: {'learning_rate': 0.18908217230184698, 'n_estimators': 685, 'max_depth': 6, 'min_child_weight': 10, 'gamma': 0.05239525632268867, 'subsample': 0.8451235367845725, 'colsample_bytree': 0.9865417857436737, 'lambda': 0.6003157211757633, 'quantile_alpha': 0.8315924369942073}. Best is trial 3 with value: 9.552247802828603.\n",
            "[I 2025-06-17 04:15:53,965] Trial 11 finished with value: 10.30363023065505 and parameters: {'learning_rate': 0.18085531196542298, 'n_estimators': 604, 'max_depth': 10, 'min_child_weight': 9, 'gamma': 0.046166966655241275, 'subsample': 0.6216895113171046, 'colsample_bytree': 0.6136901193066356, 'lambda': 0.4276851933276985, 'quantile_alpha': 0.7926249293713428}. Best is trial 3 with value: 9.552247802828603.\n",
            "[I 2025-06-17 04:15:58,012] Trial 12 finished with value: 9.96314725673676 and parameters: {'learning_rate': 0.15910036640966405, 'n_estimators': 167, 'max_depth': 6, 'min_child_weight': 8, 'gamma': 0.05086074924976293, 'subsample': 0.5244164304085682, 'colsample_bytree': 0.8468909147231947, 'lambda': 0.4748083999828755, 'quantile_alpha': 0.8436669336623982}. Best is trial 3 with value: 9.552247802828603.\n",
            "[I 2025-06-17 04:16:03,351] Trial 13 finished with value: 8.787706421261808 and parameters: {'learning_rate': 0.036240251476248694, 'n_estimators': 686, 'max_depth': 7, 'min_child_weight': 8, 'gamma': 0.0014425339081697852, 'subsample': 0.6123366282341044, 'colsample_bytree': 0.6207774664901697, 'lambda': 0.07960100675831383, 'quantile_alpha': 0.8995596966964456}. Best is trial 13 with value: 8.787706421261808.\n",
            "[I 2025-06-17 04:16:11,516] Trial 14 finished with value: 9.02373792294811 and parameters: {'learning_rate': 0.0323465147458091, 'n_estimators': 748, 'max_depth': 6, 'min_child_weight': 7, 'gamma': 0.0037909046390393808, 'subsample': 0.7389257673251317, 'colsample_bytree': 0.7793992915216572, 'lambda': 0.12080908456474199, 'quantile_alpha': 0.8889395749441265}. Best is trial 13 with value: 8.787706421261808.\n",
            "[I 2025-06-17 04:16:18,269] Trial 15 finished with value: 9.002819715431572 and parameters: {'learning_rate': 0.02681202671058213, 'n_estimators': 753, 'max_depth': 7, 'min_child_weight': 4, 'gamma': 0.0025034892962799335, 'subsample': 0.7530296221857764, 'colsample_bytree': 0.7703719760589351, 'lambda': 0.0046264877685693595, 'quantile_alpha': 0.8954532931190157}. Best is trial 13 with value: 8.787706421261808.\n",
            "[I 2025-06-17 04:16:28,285] Trial 16 finished with value: 10.391990119199725 and parameters: {'learning_rate': 0.03589638710750001, 'n_estimators': 791, 'max_depth': 7, 'min_child_weight': 4, 'gamma': 0.0013807865575636484, 'subsample': 0.8438617887985715, 'colsample_bytree': 0.6282169439861424, 'lambda': 0.028191807364805754, 'quantile_alpha': 0.7026358428761847}. Best is trial 13 with value: 8.787706421261808.\n",
            "[I 2025-06-17 04:16:33,254] Trial 17 finished with value: 12.882027259042319 and parameters: {'learning_rate': 0.0029720152953825046, 'n_estimators': 516, 'max_depth': 7, 'min_child_weight': 4, 'gamma': 0.06302141244161001, 'subsample': 0.6900913631930553, 'colsample_bytree': 0.7597898229880974, 'lambda': 0.03726850841888624, 'quantile_alpha': 0.8997243093819012}. Best is trial 13 with value: 8.787706421261808.\n",
            "[I 2025-06-17 04:16:41,406] Trial 18 finished with value: 9.689660397338196 and parameters: {'learning_rate': 0.041713800779224576, 'n_estimators': 505, 'max_depth': 7, 'min_child_weight': 1, 'gamma': 0.037261397822987034, 'subsample': 0.7957588354978629, 'colsample_bytree': 0.9093784190410645, 'lambda': 0.23181868348269397, 'quantile_alpha': 0.8535463852119819}. Best is trial 13 with value: 8.787706421261808.\n",
            "[I 2025-06-17 04:16:51,829] Trial 19 finished with value: 8.864254212791623 and parameters: {'learning_rate': 0.0231117213644024, 'n_estimators': 869, 'max_depth': 7, 'min_child_weight': 5, 'gamma': 0.08757446769161296, 'subsample': 0.9427582964686729, 'colsample_bytree': 0.6604979701060926, 'lambda': 0.17041194785836405, 'quantile_alpha': 0.8965308560547606}. Best is trial 13 with value: 8.787706421261808.\n",
            "[I 2025-06-17 04:16:59,090] Trial 20 finished with value: 10.046061502988357 and parameters: {'learning_rate': 0.052578205151574964, 'n_estimators': 987, 'max_depth': 6, 'min_child_weight': 5, 'gamma': 0.09981379133704292, 'subsample': 0.9517544509454045, 'colsample_bytree': 0.5693849697152993, 'lambda': 0.3631314056784645, 'quantile_alpha': 0.7708776621716359}. Best is trial 13 with value: 8.787706421261808.\n",
            "[I 2025-06-17 04:17:09,247] Trial 21 finished with value: 8.855756847808003 and parameters: {'learning_rate': 0.021152022021919216, 'n_estimators': 817, 'max_depth': 7, 'min_child_weight': 3, 'gamma': 0.09736948496182068, 'subsample': 0.9177899807516875, 'colsample_bytree': 0.6614665987510073, 'lambda': 0.16426557969997388, 'quantile_alpha': 0.8992239206770154}. Best is trial 13 with value: 8.787706421261808.\n",
            "[I 2025-06-17 04:17:19,938] Trial 22 finished with value: 8.932896644349361 and parameters: {'learning_rate': 0.017581295085054904, 'n_estimators': 867, 'max_depth': 7, 'min_child_weight': 3, 'gamma': 0.09847696442744922, 'subsample': 0.9149153606537955, 'colsample_bytree': 0.6584176056288116, 'lambda': 0.1675399755558201, 'quantile_alpha': 0.8823142370494829}. Best is trial 13 with value: 8.787706421261808.\n",
            "[I 2025-06-17 04:17:33,809] Trial 23 finished with value: 9.30062837332485 and parameters: {'learning_rate': 0.016063097846779385, 'n_estimators': 896, 'max_depth': 8, 'min_child_weight': 3, 'gamma': 0.08679188276833638, 'subsample': 0.9127156181593469, 'colsample_bytree': 0.7142669991011248, 'lambda': 0.18491715830294425, 'quantile_alpha': 0.8436610687870802}. Best is trial 13 with value: 8.787706421261808.\n",
            "[I 2025-06-17 04:17:39,049] Trial 24 finished with value: 9.084917011621942 and parameters: {'learning_rate': 0.053896334669799255, 'n_estimators': 694, 'max_depth': 6, 'min_child_weight': 7, 'gamma': 0.06846536095411412, 'subsample': 0.9898612155204265, 'colsample_bytree': 0.6600983575493113, 'lambda': 0.5876821486858084, 'quantile_alpha': 0.8984189008167468}. Best is trial 13 with value: 8.787706421261808.\n",
            "[I 2025-06-17 04:17:48,856] Trial 25 finished with value: 8.810477636217353 and parameters: {'learning_rate': 0.018074373873293303, 'n_estimators': 812, 'max_depth': 7, 'min_child_weight': 5, 'gamma': 0.09057227888649189, 'subsample': 0.9145942595193253, 'colsample_bytree': 0.5605402174481692, 'lambda': 0.09290106419017832, 'quantile_alpha': 0.8761984253925653}. Best is trial 13 with value: 8.787706421261808.\n",
            "[I 2025-06-17 04:17:59,726] Trial 26 finished with value: 9.054958612074675 and parameters: {'learning_rate': 0.04344278041072044, 'n_estimators': 800, 'max_depth': 8, 'min_child_weight': 3, 'gamma': 0.09296970310609404, 'subsample': 0.8812829080304145, 'colsample_bytree': 0.5632613446856177, 'lambda': 0.09571427551603033, 'quantile_alpha': 0.8747309717299897}. Best is trial 13 with value: 8.787706421261808.\n",
            "[I 2025-06-17 04:18:04,087] Trial 27 finished with value: 8.866117989134638 and parameters: {'learning_rate': 0.010962320496353792, 'n_estimators': 590, 'max_depth': 6, 'min_child_weight': 6, 'gamma': 0.06702382001997917, 'subsample': 0.7976915014058938, 'colsample_bytree': 0.62019496525464, 'lambda': 0.3313101570246134, 'quantile_alpha': 0.8534806898343784}. Best is trial 13 with value: 8.787706421261808.\n",
            "[I 2025-06-17 04:18:12,805] Trial 28 finished with value: 9.64430844351641 and parameters: {'learning_rate': 0.08793400363508586, 'n_estimators': 701, 'max_depth': 7, 'min_child_weight': 1, 'gamma': 0.07697393615638101, 'subsample': 0.7952279135348282, 'colsample_bytree': 0.5591643457655665, 'lambda': 0.22816955035658773, 'quantile_alpha': 0.825331400578055}. Best is trial 13 with value: 8.787706421261808.\n",
            "[I 2025-06-17 04:18:24,617] Trial 29 finished with value: 9.093492963539171 and parameters: {'learning_rate': 0.0684538172423478, 'n_estimators': 930, 'max_depth': 9, 'min_child_weight': 10, 'gamma': 0.09137144808205623, 'subsample': 0.6323629833708873, 'colsample_bytree': 0.5039043190429761, 'lambda': 0.39788195718068947, 'quantile_alpha': 0.8818980790001654}. Best is trial 13 with value: 8.787706421261808.\n",
            "[I 2025-06-17 04:18:29,170] Trial 30 finished with value: 9.355879942368958 and parameters: {'learning_rate': 0.052548023926026984, 'n_estimators': 451, 'max_depth': 8, 'min_child_weight': 8, 'gamma': 0.0590766095198752, 'subsample': 0.8972832014925661, 'colsample_bytree': 0.535687225747397, 'lambda': 0.09025945487438031, 'quantile_alpha': 0.8129252099456754}. Best is trial 13 with value: 8.787706421261808.\n",
            "[I 2025-06-17 04:18:39,464] Trial 31 finished with value: 8.946249053538862 and parameters: {'learning_rate': 0.02365554253758948, 'n_estimators': 846, 'max_depth': 7, 'min_child_weight': 5, 'gamma': 0.08769771589718559, 'subsample': 0.9464720472584931, 'colsample_bytree': 0.6443556827540704, 'lambda': 0.19764186907326864, 'quantile_alpha': 0.8878826723336778}. Best is trial 13 with value: 8.787706421261808.\n",
            "[I 2025-06-17 04:18:45,969] Trial 32 finished with value: 8.810901270290035 and parameters: {'learning_rate': 0.02754502970235268, 'n_estimators': 764, 'max_depth': 7, 'min_child_weight': 6, 'gamma': 0.0833631759182984, 'subsample': 0.9352213452690067, 'colsample_bytree': 0.5915164751582911, 'lambda': 0.2646720599120448, 'quantile_alpha': 0.8999789387108214}. Best is trial 13 with value: 8.787706421261808.\n",
            "[I 2025-06-17 04:18:54,290] Trial 33 finished with value: 9.130027904970277 and parameters: {'learning_rate': 0.0399025225487119, 'n_estimators': 652, 'max_depth': 7, 'min_child_weight': 6, 'gamma': 0.08097907744364409, 'subsample': 0.8278084925507112, 'colsample_bytree': 0.5935156663267583, 'lambda': 0.286883670599269, 'quantile_alpha': 0.8626534703817007}. Best is trial 13 with value: 8.787706421261808.\n",
            "[I 2025-06-17 04:19:05,171] Trial 34 finished with value: 8.787576486131384 and parameters: {'learning_rate': 0.013178112985860685, 'n_estimators': 747, 'max_depth': 8, 'min_child_weight': 7, 'gamma': 0.09578117735776834, 'subsample': 0.9661230074006846, 'colsample_bytree': 0.5954554996954721, 'lambda': 0.06895334207140018, 'quantile_alpha': 0.8746699465648389}. Best is trial 34 with value: 8.787576486131384.\n",
            "[I 2025-06-17 04:19:15,395] Trial 35 finished with value: 8.715869336072023 and parameters: {'learning_rate': 0.008643667708555226, 'n_estimators': 743, 'max_depth': 8, 'min_child_weight': 7, 'gamma': 0.06989279373833854, 'subsample': 0.9991520895528864, 'colsample_bytree': 0.5901795938641711, 'lambda': 0.06019748834660171, 'quantile_alpha': 0.8732560903296295}. Best is trial 35 with value: 8.715869336072023.\n",
            "[I 2025-06-17 04:19:25,814] Trial 36 finished with value: 8.711115499133015 and parameters: {'learning_rate': 0.008675888342780179, 'n_estimators': 726, 'max_depth': 9, 'min_child_weight': 9, 'gamma': 0.0739001709484207, 'subsample': 0.9791584375319327, 'colsample_bytree': 0.5232983079041558, 'lambda': 0.059572779084756375, 'quantile_alpha': 0.8380325853767917}. Best is trial 36 with value: 8.711115499133015.\n",
            "[I 2025-06-17 04:19:36,175] Trial 37 finished with value: 8.86088087556375 and parameters: {'learning_rate': 0.006304972624983305, 'n_estimators': 566, 'max_depth': 9, 'min_child_weight': 9, 'gamma': 0.07139214717606114, 'subsample': 0.9608471681126516, 'colsample_bytree': 0.5395686527922273, 'lambda': 0.05721879930655576, 'quantile_alpha': 0.838773457421699}. Best is trial 36 with value: 8.711115499133015.\n",
            "[I 2025-06-17 04:19:48,394] Trial 38 finished with value: 9.535149060473504 and parameters: {'learning_rate': 0.0911224110121921, 'n_estimators': 650, 'max_depth': 10, 'min_child_weight': 8, 'gamma': 0.04285759290190265, 'subsample': 0.9887692035844448, 'colsample_bytree': 0.5946857298028786, 'lambda': 0.053585978216692684, 'quantile_alpha': 0.8569788766875899}. Best is trial 36 with value: 8.711115499133015.\n",
            "[I 2025-06-17 04:20:00,373] Trial 39 finished with value: 8.76468553082705 and parameters: {'learning_rate': 0.006462128238319347, 'n_estimators': 726, 'max_depth': 9, 'min_child_weight': 7, 'gamma': 0.010610501415919717, 'subsample': 0.5755364776670469, 'colsample_bytree': 0.5280189739154815, 'lambda': 0.004104711979291985, 'quantile_alpha': 0.8111494391893571}. Best is trial 36 with value: 8.711115499133015.\n",
            "[I 2025-06-17 04:20:12,320] Trial 40 finished with value: 10.280791443742945 and parameters: {'learning_rate': 0.0017300455432548538, 'n_estimators': 728, 'max_depth': 9, 'min_child_weight': 7, 'gamma': 0.011923230898615387, 'subsample': 0.5778610056515864, 'colsample_bytree': 0.5007250058963767, 'lambda': 0.013400060137780882, 'quantile_alpha': 0.7797998700333115}. Best is trial 36 with value: 8.711115499133015.\n",
            "[I 2025-06-17 04:20:21,722] Trial 41 finished with value: 8.837823991945067 and parameters: {'learning_rate': 0.010598382573670621, 'n_estimators': 638, 'max_depth': 9, 'min_child_weight': 9, 'gamma': 0.024053008881931973, 'subsample': 0.5556032505046785, 'colsample_bytree': 0.5314496611075434, 'lambda': 0.11795401363791616, 'quantile_alpha': 0.8128703545397705}. Best is trial 36 with value: 8.711115499133015.\n",
            "[I 2025-06-17 04:20:32,518] Trial 42 finished with value: 8.949124197710587 and parameters: {'learning_rate': 0.013297953176526905, 'n_estimators': 715, 'max_depth': 10, 'min_child_weight': 7, 'gamma': 0.010121299680114887, 'subsample': 0.5051274919419462, 'colsample_bytree': 0.5800442092068788, 'lambda': 0.066404882522553, 'quantile_alpha': 0.8311438924408354}. Best is trial 36 with value: 8.711115499133015.\n",
            "[I 2025-06-17 04:20:41,383] Trial 43 finished with value: 9.226823330949356 and parameters: {'learning_rate': 0.03259347085544439, 'n_estimators': 672, 'max_depth': 8, 'min_child_weight': 9, 'gamma': 0.056598377132749525, 'subsample': 0.5957202956591533, 'colsample_bytree': 0.5399715201412164, 'lambda': 0.13747764891971329, 'quantile_alpha': 0.8138746888651671}. Best is trial 36 with value: 8.711115499133015.\n",
            "[I 2025-06-17 04:20:49,831] Trial 44 finished with value: 9.635387648908724 and parameters: {'learning_rate': 0.11014835732943164, 'n_estimators': 547, 'max_depth': 8, 'min_child_weight': 8, 'gamma': 0.025053580959997893, 'subsample': 0.9683669344581888, 'colsample_bytree': 0.6101929189166764, 'lambda': 0.764568049824522, 'quantile_alpha': 0.8674950802904206}. Best is trial 36 with value: 8.711115499133015.\n",
            "[I 2025-06-17 04:20:53,446] Trial 45 finished with value: 9.412747063590794 and parameters: {'learning_rate': 0.0626089725562341, 'n_estimators': 289, 'max_depth': 9, 'min_child_weight': 7, 'gamma': 0.017005372279550766, 'subsample': 0.6947697913307963, 'colsample_bytree': 0.5222331339140118, 'lambda': 0.015611577825457017, 'quantile_alpha': 0.8027938490805032}. Best is trial 36 with value: 8.711115499133015.\n",
            "[I 2025-06-17 04:21:04,621] Trial 46 finished with value: 8.867995186356417 and parameters: {'learning_rate': 0.009575232262470784, 'n_estimators': 764, 'max_depth': 8, 'min_child_weight': 10, 'gamma': 0.008391280662074778, 'subsample': 0.6669446700394741, 'colsample_bytree': 0.6972425386375917, 'lambda': 0.23097171318540335, 'quantile_alpha': 0.8671474436020676}. Best is trial 36 with value: 8.711115499133015.\n",
            "[I 2025-06-17 04:21:11,557] Trial 47 finished with value: 9.320226100323412 and parameters: {'learning_rate': 0.07990710828119202, 'n_estimators': 605, 'max_depth': 9, 'min_child_weight': 8, 'gamma': 0.07462966841912862, 'subsample': 0.6290590343428454, 'colsample_bytree': 0.6358638294193516, 'lambda': 0.8360671349097104, 'quantile_alpha': 0.842565157885414}. Best is trial 36 with value: 8.711115499133015.\n",
            "[I 2025-06-17 04:21:25,834] Trial 48 finished with value: 9.098930370941416 and parameters: {'learning_rate': 0.04600816665137615, 'n_estimators': 775, 'max_depth': 10, 'min_child_weight': 9, 'gamma': 0.043901299232583596, 'subsample': 0.975779382023412, 'colsample_bytree': 0.555753085714119, 'lambda': 0.1450938966938249, 'quantile_alpha': 0.887409293238904}. Best is trial 36 with value: 8.711115499133015.\n",
            "[I 2025-06-17 04:21:36,906] Trial 49 finished with value: 10.819343916222406 and parameters: {'learning_rate': 0.0013991336198878861, 'n_estimators': 719, 'max_depth': 8, 'min_child_weight': 7, 'gamma': 0.06323884306350999, 'subsample': 0.9945566259373796, 'colsample_bytree': 0.6003870386233182, 'lambda': 0.07307707650114434, 'quantile_alpha': 0.7892255359711797}. Best is trial 36 with value: 8.711115499133015.\n"
          ]
        },
        {
          "output_type": "stream",
          "name": "stdout",
          "text": [
            "Best Params: {'learning_rate': 0.008675888342780179, 'n_estimators': 726, 'max_depth': 9, 'min_child_weight': 9, 'gamma': 0.0739001709484207, 'subsample': 0.9791584375319327, 'colsample_bytree': 0.5232983079041558, 'lambda': 0.059572779084756375, 'quantile_alpha': 0.8380325853767917}\n"
          ]
        }
      ]
    },
    {
      "cell_type": "markdown",
      "source": [
        "# 10. ベストパラメータで最終モデル学習 → テスト予測\n"
      ],
      "metadata": {
        "id": "Eb1GfdCO_4tb"
      }
    },
    {
      "cell_type": "code",
      "source": [
        "model = XGBRegressor(\n",
        "    objective='reg:quantileerror',\n",
        "    eval_metric='rmse',\n",
        "    verbosity=0,\n",
        "    random_state=CFG.seed,\n",
        "    **best_params\n",
        ")\n",
        "model.fit(X, y)\n",
        "y_test_pred = model.predict(X_test)"
      ],
      "metadata": {
        "id": "zOw68NFY_Ze0"
      },
      "execution_count": 53,
      "outputs": []
    },
    {
      "cell_type": "markdown",
      "source": [
        "# 11. Submission ファイル出力"
      ],
      "metadata": {
        "id": "qgQ4CfGfFQs1"
      }
    },
    {
      "cell_type": "code",
      "source": [
        "sub = pd.read_csv(CFG.data_path + 'sample_submit.csv', header=None)\n",
        "sub[1] = y_test_pred\n",
        "sub.to_csv('submission.csv', header=False, index=False)\n",
        "print(\">>> submission.csv を出力しました\")"
      ],
      "metadata": {
        "colab": {
          "base_uri": "https://localhost:8080/"
        },
        "id": "SQYxehpDEz2r",
        "outputId": "de37dc1d-5d4d-464b-bb9a-5c5c1e98fa84"
      },
      "execution_count": 54,
      "outputs": [
        {
          "output_type": "stream",
          "name": "stdout",
          "text": [
            ">>> submission.csv を出力しました\n"
          ]
        }
      ]
    }
  ]
}
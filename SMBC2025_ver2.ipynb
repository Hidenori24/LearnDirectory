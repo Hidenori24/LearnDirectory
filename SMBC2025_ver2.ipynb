{
  "nbformat": 4,
  "nbformat_minor": 0,
  "metadata": {
    "colab": {
      "provenance": [],
      "authorship_tag": "ABX9TyPT3+vBfUKlu5nCQPBhsMKh",
      "include_colab_link": true
    },
    "kernelspec": {
      "name": "python3",
      "display_name": "Python 3"
    },
    "language_info": {
      "name": "python"
    }
  },
  "cells": [
    {
      "cell_type": "markdown",
      "metadata": {
        "id": "view-in-github",
        "colab_type": "text"
      },
      "source": [
        "<a href=\"https://colab.research.google.com/github/Hidenori24/LearnDirectory/blob/master/SMBC2025_ver2.ipynb\" target=\"_parent\"><img src=\"https://colab.research.google.com/assets/colab-badge.svg\" alt=\"Open In Colab\"/></a>"
      ]
    },
    {
      "cell_type": "markdown",
      "source": [
        "# 0. ライブラリセットアップ\n"
      ],
      "metadata": {
        "id": "5idmRN9YE8EI"
      }
    },
    {
      "cell_type": "code",
      "execution_count": 1,
      "metadata": {
        "id": "0ZWUiAp_EmOg"
      },
      "outputs": [],
      "source": [
        "# ============================================\n",
        "# 0. ライブラリ & CFG 定義\n",
        "# ============================================\n",
        "!pip -q install lightgbm==4.3.0 polars==0.20.19 holidays==0.42\n",
        "!pip install -U scikit-learn -q\n",
        "\n",
        "import os, random, math, gc, pickle, warnings\n",
        "import numpy as np\n",
        "import pandas as pd\n",
        "import polars as pl\n",
        "import lightgbm as lgb\n",
        "import holidays\n",
        "from sklearn.metrics import mean_squared_error\n",
        "from sklearn.model_selection import TimeSeriesSplit\n",
        "from tqdm.notebook import tqdm\n",
        "\n",
        "warnings.filterwarnings('ignore')\n",
        "\n",
        "# ---------- CFG ----------\n",
        "class CFG:\n",
        "    seed         = 42\n",
        "    n_folds      = 5\n",
        "    early_stop   = 300\n",
        "    num_boost_round = 20_000\n",
        "    test_size_hr = 4380          # ≒6ヶ月\n",
        "    lags         = [1, 24]\n",
        "    rolls        = [24, 168]\n",
        "    data_path    = '/content/drive/MyDrive/ML/Signate_1634/'\n",
        "    use_polars   = False         # True にすると FE 後が高速\n",
        "    lgb_params = {\n",
        "        'objective'      : 'regression',\n",
        "        'metric'         : 'rmse',\n",
        "        'learning_rate'  : 0.05,\n",
        "        'num_leaves'     : 256,\n",
        "        'subsample'      : 0.8,\n",
        "        'colsample_bytree': 0.8,\n",
        "        'seed'           : seed,\n",
        "        'verbose'        : -1,\n",
        "    }\n",
        "\n",
        "# set seed\n",
        "random.seed(CFG.seed)\n",
        "np.random.seed(CFG.seed)\n"
      ]
    },
    {
      "cell_type": "markdown",
      "source": [
        "# 1. Google Drive マウント\n"
      ],
      "metadata": {
        "id": "fMaGVka5FB7A"
      }
    },
    {
      "cell_type": "code",
      "source": [
        "# ============================================\n",
        "# 1. Google Drive マウント\n",
        "# ============================================\n",
        "from google.colab import drive\n",
        "drive.mount('/content/drive', force_remount=True)\n"
      ],
      "metadata": {
        "colab": {
          "base_uri": "https://localhost:8080/"
        },
        "id": "jG6UMAE3Eqdv",
        "outputId": "bf5c1bb5-c693-4f61-e2ea-31ec4c9e47e5"
      },
      "execution_count": 2,
      "outputs": [
        {
          "output_type": "stream",
          "name": "stdout",
          "text": [
            "Mounted at /content/drive\n"
          ]
        }
      ]
    },
    {
      "cell_type": "markdown",
      "source": [
        "# 2. データ読み込み"
      ],
      "metadata": {
        "id": "guK8i2niFK0K"
      }
    },
    {
      "cell_type": "code",
      "source": [
        "# =========================================================\n",
        "# 2. データ読み込み\n",
        "#    - index を DatetimeIndex（UTC）に\n",
        "# =========================================================\n",
        "def read_data(path: str) -> pd.DataFrame:\n",
        "    df = pd.read_csv(path)                 # まずは普通に読み込み\n",
        "    df['time'] = pd.to_datetime(df['time'], utc=True)   # ①文字列→datetime(UTC)\n",
        "    df['time'] = df['time'].dt.tz_convert(None)         # ②タイムゾーン情報を外す（naive へ）\n",
        "    df = df.set_index('time').sort_index()              # ③DatetimeIndex として設定\n",
        "    return df\n",
        "\n",
        "train_df = read_data(os.path.join(CFG.data_path, 'train.csv'))\n",
        "test_df  = read_data(os.path.join(CFG.data_path, 'test.csv'))\n",
        "\n",
        "print('train', train_df.shape, 'test', test_df.shape)"
      ],
      "metadata": {
        "colab": {
          "base_uri": "https://localhost:8080/"
        },
        "id": "xJKz_c6jEsq1",
        "outputId": "e5328232-9533-4abe-9d71-c1507a18b8bd"
      },
      "execution_count": 3,
      "outputs": [
        {
          "output_type": "stream",
          "name": "stdout",
          "text": [
            "train (26280, 91) test (8760, 90)\n"
          ]
        }
      ]
    },
    {
      "cell_type": "markdown",
      "source": [
        "# 3. 特徴量生成"
      ],
      "metadata": {
        "id": "dTc-JyB1FMV0"
      }
    },
    {
      "cell_type": "code",
      "source": [
        "# ============================================\n",
        "# 3. 特徴量エンジニアリング\n",
        "# ============================================\n",
        "es_holidays = holidays.country_holidays('ES', years=range(2015, 2019))\n",
        "holiday_set = set(es_holidays.keys())  # set で高速判定\n",
        "\n",
        "def add_calendar(df):\n",
        "    idx = df.index\n",
        "    df['hour']       = idx.hour\n",
        "    df['dow']        = idx.dayofweek\n",
        "    df['month']      = idx.month\n",
        "    df['is_weekend'] = (df['dow'] >= 5).astype(np.int8)\n",
        "    df['is_holiday'] = np.isin(idx.date, list(holiday_set)).astype(np.int8)\n",
        "\n",
        "    df['sin_hour'] = np.sin(2*np.pi*df['hour']/24)\n",
        "    df['cos_hour'] = np.cos(2*np.pi*df['hour']/24)\n",
        "    df['sin_dow']  = np.sin(2*np.pi*df['dow']/7)\n",
        "    df['cos_dow']  = np.cos(2*np.pi*df['dow']/7)\n",
        "    return df\n",
        "\n",
        "def add_supply_gap(df):\n",
        "    gen_cols = [c for c in df.columns if c.startswith('generation_')]\n",
        "    df['supply_total'] = df[gen_cols].sum(axis=1)\n",
        "    df['gap_supply_demand'] = df['supply_total'] - df['total_load_actual']\n",
        "\n",
        "    ren_cols = [c for c in gen_cols if any(k in c for k in ['solar','wind','hydro'])]\n",
        "    df['renewable_ratio'] = df[ren_cols].sum(axis=1) / df['supply_total']\n",
        "    return df\n",
        "\n",
        "def add_lag_roll(df, lags=CFG.lags, rolls=CFG.rolls):\n",
        "    for l in lags:\n",
        "        df[f'price_lag_{l}']  = df['price_actual'].shift(l)\n",
        "        df[f'demand_lag_{l}'] = df['total_load_actual'].shift(l)\n",
        "    for r in rolls:\n",
        "        df[f'price_rollmean_{r}'] = df['price_actual'].shift(1).rolling(r).mean()\n",
        "        df[f'gap_rollstd_{r}']    = df['gap_supply_demand'].shift(1).rolling(r).std()\n",
        "    return df\n",
        "\n",
        "def make_features(full):\n",
        "    full = add_calendar(full)\n",
        "    full = add_supply_gap(full)\n",
        "    full = add_lag_roll(full)\n",
        "    return full\n",
        "\n",
        "# train+test を縦結合して一括 FE\n",
        "full_df = pd.concat(\n",
        "    [train_df, test_df.assign(price_actual=np.nan)],\n",
        "    axis=0\n",
        ")\n",
        "full_df = make_features(full_df)\n",
        "\n",
        "# 欠損補完（時系列なので forward → 数値列平均）\n",
        "full_df = full_df.fillna(method='ffill')\n",
        "num_cols = full_df.select_dtypes(include=[np.number, 'bool']).columns\n",
        "full_df[num_cols] = full_df[num_cols].fillna(full_df[num_cols].mean())\n",
        "\n",
        "print('FE 完了:', full_df.shape)\n"
      ],
      "metadata": {
        "colab": {
          "base_uri": "https://localhost:8080/"
        },
        "id": "xNTw5dRGEuCe",
        "outputId": "4903d8fc-d7b2-4f91-c9ce-335d6171f5b9"
      },
      "execution_count": 4,
      "outputs": [
        {
          "output_type": "stream",
          "name": "stdout",
          "text": [
            "FE 完了: (35040, 111)\n"
          ]
        }
      ]
    },
    {
      "cell_type": "markdown",
      "source": [
        "# 4. 数値列 & カテゴリー列を分離"
      ],
      "metadata": {
        "id": "PfqCv0ijFOM0"
      }
    },
    {
      "cell_type": "code",
      "source": [
        "# ============================================\n",
        "# 4. 数値列 & カテゴリー列を分離\n",
        "#    ─ LightGBM にカテゴリーを渡す設定 ─\n",
        "# ============================================\n",
        "TARGET = 'price_actual'\n",
        "\n",
        "# 1) すべての object 列を category 型へ変換\n",
        "str_cols = full_df.select_dtypes('object').columns\n",
        "full_df[str_cols] = full_df[str_cols].astype('category')\n",
        "\n",
        "# 2) カテゴリー列リストを自動取得\n",
        "cat_cols = list(full_df.select_dtypes('category').columns)\n",
        "\n",
        "# 3) 特徴量リスト（目的変数を除く全列）\n",
        "features = [c for c in full_df.columns if c != TARGET]\n",
        "\n",
        "# 4) 学習・テスト DataFrame\n",
        "train_fe = full_df.loc[train_df.index]\n",
        "test_fe  = full_df.loc[test_df.index]\n",
        "\n",
        "# 5) LightGBM 推論用 : DataFrame → NumPy へ安全変換\n",
        "def to_numeric_np(df: pd.DataFrame) -> np.ndarray:\n",
        "    \"\"\"\n",
        "    - category は codes(int32)\n",
        "    - object が残っていれば factorize(int32)\n",
        "    - 数値 / bool はそのまま\n",
        "    \"\"\"\n",
        "    df_num = df.copy()\n",
        "\n",
        "    # category → int32\n",
        "    for col in cat_cols:\n",
        "        df_num[col] = df_num[col].cat.codes.astype('int32')\n",
        "\n",
        "    # 念のため残っている object 列を factorize\n",
        "    obj_cols = df_num.select_dtypes('object').columns\n",
        "    for col in obj_cols:\n",
        "        df_num[col] = pd.factorize(df_num[col], sort=True)[0].astype('int32')\n",
        "\n",
        "    return df_num.to_numpy(dtype=np.float32)\n",
        "\n",
        "# 6) 学習 / 推論データ\n",
        "X_train, y_train = train_fe[features], train_fe[TARGET]\n",
        "X_test           = test_fe[features]\n"
      ],
      "metadata": {
        "id": "KIQ-glPpEweF"
      },
      "execution_count": 5,
      "outputs": []
    },
    {
      "cell_type": "markdown",
      "source": [
        "# 5. 時系列 CV & LightGBM 学習"
      ],
      "metadata": {
        "id": "Kgev0x-kFPg7"
      }
    },
    {
      "cell_type": "code",
      "source": [
        "# ============================================\n",
        "# 5. LightGBM 時系列 CV 学習  ★修正版\n",
        "# ============================================\n",
        "tscv = TimeSeriesSplit(n_splits=CFG.n_folds, test_size=CFG.test_size_hr)\n",
        "oof = np.zeros(len(X_train))\n",
        "pred= np.zeros(len(X_test))\n",
        "\n",
        "for fold, (tr_idx, val_idx) in enumerate(tscv.split(X_train)):\n",
        "    print(f'\\n---- Fold {fold} ----')\n",
        "    X_tr, y_tr = X_train.iloc[tr_idx], y_train.iloc[tr_idx]\n",
        "    X_val, y_val = X_train.iloc[val_idx], y_train.iloc[val_idx]\n",
        "\n",
        "    lgb_train = lgb.Dataset(X_tr, label=y_tr, categorical_feature=cat_cols, free_raw_data=False)\n",
        "    lgb_val   = lgb.Dataset(X_val, label=y_val, categorical_feature=cat_cols, free_raw_data=False)\n",
        "\n",
        "    model = lgb.train(\n",
        "        CFG.lgb_params,\n",
        "        lgb_train,\n",
        "        num_boost_round=CFG.num_boost_round,\n",
        "        valid_sets=[lgb_train, lgb_val],\n",
        "        valid_names=['train','valid'],\n",
        "        callbacks=[\n",
        "            lgb.early_stopping(CFG.early_stop, verbose=True),\n",
        "            lgb.log_evaluation(500)\n",
        "        ]\n",
        "    )\n",
        "    # OOF\n",
        "    oof[val_idx] = model.predict(\n",
        "        to_numeric_np(X_val),\n",
        "        num_iteration=model.best_iteration\n",
        "    )\n",
        "\n",
        "    # TEST\n",
        "    pred += model.predict(\n",
        "        to_numeric_np(X_test),\n",
        "        num_iteration=model.best_iteration\n",
        "    ) / CFG.n_folds\n",
        "from sklearn.metrics import mean_squared_error\n",
        "import numpy as np\n",
        "\n",
        "rmse = np.sqrt(mean_squared_error(y_train, oof))    # ← ここだけ変更\n",
        "# rmse = mean_squared_error(y_train, oof, squared=False)\n",
        "print(f'\\nOOF RMSE = {rmse:.4f}')\n"
      ],
      "metadata": {
        "colab": {
          "base_uri": "https://localhost:8080/"
        },
        "id": "8rJWMv2JEx8O",
        "outputId": "55a217c7-4e3a-4ff0-fc5a-46b76861c1cb"
      },
      "execution_count": 7,
      "outputs": [
        {
          "output_type": "stream",
          "name": "stdout",
          "text": [
            "\n",
            "---- Fold 0 ----\n",
            "Training until validation scores don't improve for 300 rounds\n",
            "Early stopping, best iteration is:\n",
            "[96]\ttrain's rmse: 1.12473\tvalid's rmse: 2.77683\n",
            "\n",
            "---- Fold 1 ----\n",
            "Training until validation scores don't improve for 300 rounds\n",
            "Early stopping, best iteration is:\n",
            "[114]\ttrain's rmse: 0.86115\tvalid's rmse: 4.63544\n",
            "\n",
            "---- Fold 2 ----\n",
            "Training until validation scores don't improve for 300 rounds\n",
            "[500]\ttrain's rmse: 0.13327\tvalid's rmse: 2.21398\n",
            "Early stopping, best iteration is:\n",
            "[200]\ttrain's rmse: 0.578158\tvalid's rmse: 2.19472\n",
            "\n",
            "---- Fold 3 ----\n",
            "Training until validation scores don't improve for 300 rounds\n",
            "Early stopping, best iteration is:\n",
            "[169]\ttrain's rmse: 0.810287\tvalid's rmse: 3.41177\n",
            "\n",
            "---- Fold 4 ----\n",
            "Training until validation scores don't improve for 300 rounds\n",
            "[500]\ttrain's rmse: 0.287545\tvalid's rmse: 2.31057\n",
            "Early stopping, best iteration is:\n",
            "[254]\ttrain's rmse: 0.653435\tvalid's rmse: 2.30931\n",
            "\n",
            "OOF RMSE = 25.2481\n"
          ]
        }
      ]
    },
    {
      "cell_type": "markdown",
      "source": [
        "# 6. 提出ファイル生成"
      ],
      "metadata": {
        "id": "qgQ4CfGfFQs1"
      }
    },
    {
      "cell_type": "code",
      "source": [
        "# =========================================================\n",
        "# 6. 提出ファイル生成\n",
        "# =========================================================\n",
        "sub = pd.DataFrame({\n",
        "    'time': test_df.index.strftime('%Y-%m-%d %H:%M:%S'),\n",
        "    'price_actual': pred\n",
        "})\n",
        "save_path = os.path.join(CFG.data_path, 'submission_lgbm_cfg.csv')\n",
        "sub.to_csv(save_path, index=False)\n",
        "print('saved to', save_path)\n"
      ],
      "metadata": {
        "colab": {
          "base_uri": "https://localhost:8080/"
        },
        "id": "SQYxehpDEz2r",
        "outputId": "c264d6e6-9c68-42c8-e1ef-6379ee4484a5"
      },
      "execution_count": 8,
      "outputs": [
        {
          "output_type": "stream",
          "name": "stdout",
          "text": [
            "saved to /content/drive/MyDrive/ML/Signate_1634/submission_lgbm_cfg.csv\n"
          ]
        }
      ]
    }
  ]
}
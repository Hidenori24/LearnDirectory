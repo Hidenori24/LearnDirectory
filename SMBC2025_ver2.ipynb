{
  "nbformat": 4,
  "nbformat_minor": 0,
  "metadata": {
    "colab": {
      "provenance": [],
      "authorship_tag": "ABX9TyMTrbD5HEg2OTvzkq6GEGLp",
      "include_colab_link": true
    },
    "kernelspec": {
      "name": "python3",
      "display_name": "Python 3"
    },
    "language_info": {
      "name": "python"
    }
  },
  "cells": [
    {
      "cell_type": "markdown",
      "metadata": {
        "id": "view-in-github",
        "colab_type": "text"
      },
      "source": [
        "<a href=\"https://colab.research.google.com/github/Hidenori24/LearnDirectory/blob/master/SMBC2025_ver2.ipynb\" target=\"_parent\"><img src=\"https://colab.research.google.com/assets/colab-badge.svg\" alt=\"Open In Colab\"/></a>"
      ]
    },
    {
      "cell_type": "markdown",
      "source": [
        "# 0. ライブラリセットアップ\n"
      ],
      "metadata": {
        "id": "5idmRN9YE8EI"
      }
    },
    {
      "cell_type": "code",
      "execution_count": 36,
      "metadata": {
        "id": "0ZWUiAp_EmOg"
      },
      "outputs": [],
      "source": [
        "# ============================================\n",
        "# 0. ライブラリ & CFG 定義\n",
        "# ============================================\n",
        "!pip install -q xgboost optuna japanize-matplotlib folium\n",
        "\n",
        "import os, warnings, random\n",
        "import pandas as pd\n",
        "import numpy as np\n",
        "import matplotlib.pyplot as plt\n",
        "import seaborn as sns\n",
        "import japanize_matplotlib\n",
        "import folium\n",
        "from xgboost import XGBRegressor\n",
        "import optuna\n",
        "from sklearn.metrics import mean_squared_error, r2_score\n",
        "\n",
        "warnings.filterwarnings(\"ignore\")\n",
        "\n",
        "# ---------- CFG ----------\n",
        "class CFG:\n",
        "    seed         = 42\n",
        "\n",
        "    data_path    = '/content/drive/MyDrive/ML/Signate_1634/'\n",
        "    corr_threshold = 0.13                 # 相関係数の閾値\n",
        "    comfort_index  = 65                   # 不快指数の快適基準\n",
        "    optuna_trials  = 50                   # Optuna 試行回数\n",
        "\n",
        "\n",
        "# set seed\n",
        "random.seed(CFG.seed)\n",
        "np.random.seed(CFG.seed)\n"
      ]
    },
    {
      "cell_type": "markdown",
      "source": [
        "# 1. Google Drive マウント\n"
      ],
      "metadata": {
        "id": "fMaGVka5FB7A"
      }
    },
    {
      "cell_type": "code",
      "source": [
        "# ============================================\n",
        "# 1. Google Drive マウント\n",
        "# ============================================\n",
        "from google.colab import drive\n",
        "drive.mount('/content/drive', force_remount=True)\n"
      ],
      "metadata": {
        "colab": {
          "base_uri": "https://localhost:8080/"
        },
        "id": "jG6UMAE3Eqdv",
        "outputId": "b3b1d993-a168-4c99-b14c-fdc419275e42"
      },
      "execution_count": 37,
      "outputs": [
        {
          "output_type": "stream",
          "name": "stdout",
          "text": [
            "Mounted at /content/drive\n"
          ]
        }
      ]
    },
    {
      "cell_type": "markdown",
      "source": [
        "# 2. データ読み込み"
      ],
      "metadata": {
        "id": "guK8i2niFK0K"
      }
    },
    {
      "cell_type": "code",
      "source": [
        "# =========================================================\n",
        "# 2. データ読み込み\n",
        "#    - index を DatetimeIndex（UTC）に\n",
        "# =========================================================\n",
        "def read_data(path: str) -> pd.DataFrame:\n",
        "    df = pd.read_csv(path)                 # まずは普通に読み込み\n",
        "    df['time'] = pd.to_datetime(df['time'], utc=True)   # ①文字列→datetime(UTC)\n",
        "    df['time'] = df['time'].dt.tz_convert(None)         # ②タイムゾーン情報を外す（naive へ）\n",
        "    df = df.set_index('time').sort_index()              # ③DatetimeIndex として設定\n",
        "    return df\n",
        "\n",
        "train_df = read_data(os.path.join(CFG.data_path, 'train.csv'))\n",
        "test_df  = read_data(os.path.join(CFG.data_path, 'test.csv'))\n",
        "\n",
        "# タイムゾーンを UTC→Etc/GMT-1 に変換\n",
        "train_df.index = pd.to_datetime(train_df.index, utc=True).tz_convert('Etc/GMT-1')\n",
        "test_df.index = pd.to_datetime(test_df.index,  utc=True).tz_convert('Etc/GMT-1')\n",
        "\n",
        "print('train', train_df.shape, 'test', test_df.shape)\n",
        "\n"
      ],
      "metadata": {
        "colab": {
          "base_uri": "https://localhost:8080/"
        },
        "id": "xJKz_c6jEsq1",
        "outputId": "2a31ae33-4a93-45e5-ac10-3beb81bd64e4"
      },
      "execution_count": 38,
      "outputs": [
        {
          "output_type": "stream",
          "name": "stdout",
          "text": [
            "train (26280, 91) test (8760, 90)\n"
          ]
        }
      ]
    },
    {
      "cell_type": "markdown",
      "source": [
        "#3 前処理"
      ],
      "metadata": {
        "id": "OTed2aDH_i-D"
      }
    },
    {
      "cell_type": "code",
      "source": [
        "import holidays\n",
        "from sklearn.metrics import mean_squared_error\n",
        "from sklearn.model_selection import TimeSeriesSplit\n",
        "import lightgbm as lgb\n",
        "\n",
        "# weather_main, weather_icon, weather_id 列の削除\n",
        "for kw in ['weather_main','weather_icon','weather_id']:\n",
        "    cols = [c for c in train_df.columns if kw in c]\n",
        "    train_df.drop(columns=cols, inplace=True)\n",
        "    test_df.drop(columns=cols, inplace=True)\n",
        "\n",
        "# 値がすべて同じ列の削除\n",
        "constant_cols = [c for c in train_df.columns if train_df[c].nunique() == 1]\n",
        "train_df.drop(columns=constant_cols, inplace=True)\n",
        "test_df.drop(columns=constant_cols, inplace=True)\n",
        "\n",
        "# 大気圧のクリッピング（1090 hPa で上限）\n",
        "pressure_cols = [c for c in train_df.columns if 'pressure' in c]\n",
        "train_df[pressure_cols] = train_df[pressure_cols].clip(upper=1090)\n",
        "test_df [pressure_cols] = test_df [pressure_cols].clip(upper=1090)\n",
        "\n",
        "# 風速のクリッピング（18 m/s で上限）\n",
        "wind_cols = [c for c in train_df.columns if 'wind_speed' in c]\n",
        "train_df[wind_cols] = train_df[wind_cols].clip(upper=18)\n",
        "test_df [wind_cols] = test_df [wind_cols].clip(upper=18)\n",
        "\n",
        "# 欠損値を前方埋め、後方埋め\n",
        "train_df.ffill(inplace=True); train_df.bfill(inplace=True)\n",
        "test_df .ffill(inplace=True); test_df .bfill(inplace=True)"
      ],
      "metadata": {
        "id": "nbHCwFeo7TmI"
      },
      "execution_count": 39,
      "outputs": []
    },
    {
      "cell_type": "markdown",
      "source": [
        "# 4. 不快指数 → 差分絶対値"
      ],
      "metadata": {
        "id": "dTc-JyB1FMV0"
      }
    },
    {
      "cell_type": "code",
      "source": [
        "def discomfort(temp, hum):\n",
        "    return temp * 0.81 + (hum/100)*(temp-14.3) + 46.3\n",
        "\n",
        "for city in ['valencia','madrid','bilbao','barcelona','seville']:\n",
        "    # 生不快指数\n",
        "    train_df[f'di_{city}'] = discomfort(train_df[f'{city}_temp'], train_df[f'{city}_humidity'])\n",
        "    test_df [f'di_{city}'] = discomfort(test_df [f'{city}_temp'], test_df [f'{city}_humidity'])\n",
        "    # 快適基準との差分絶対値\n",
        "    train_df[f'di_{city}_diff_abs'] = (train_df[f'di_{city}'] - CFG.comfort_index).abs()\n",
        "    test_df [f'di_{city}_diff_abs'] = (test_df [f'di_{city}'] - CFG.comfort_index).abs()\n",
        "\n",
        "# 元の temp, humidity, 生不快指数 列は不要なので削除\n",
        "drop_cols = [c for c in train_df.columns if ('_temp' in c or '_humidity' in c or (c.startswith('di_') and not c.endswith('_diff_abs')))]\n",
        "train_df.drop(columns=drop_cols, inplace=True)\n",
        "test_df .drop(columns=drop_cols, inplace=True)\n",
        "\n",
        "# ============================================\n",
        "# 5. generation_sum を追加\n",
        "# ============================================\n",
        "gen_cols = [c for c in train_df.columns if c.startswith('generation')]\n",
        "train_df['generation_sum'] = train_df[gen_cols].sum(axis=1)\n",
        "test_df ['generation_sum'] = test_df [gen_cols].sum(axis=1)\n",
        "\n",
        "# ============================================\n",
        "# 6. 相関係数で特徴量選択（数値列のみで計算）\n",
        "# ============================================\n",
        "# 数値列だけを抽出\n",
        "numeric_cols = train_df.select_dtypes(include=[np.number]).columns\n",
        "\n",
        "# 数値列同士の相関行列を計算し、price_actual との相関を取得\n",
        "corr = train_df[numeric_cols].corr()['price_actual'].abs()\n",
        "\n",
        "# 閾値以上かつ price_actual 自身は除外\n",
        "use_cols = corr[corr > CFG.corr_threshold].index.drop('price_actual').tolist()\n",
        "print(\"選択された特徴量:\", use_cols)\n",
        "\n",
        "# ============================================\n",
        "# 7. 日付情報の追加 & One-Hot\n",
        "# ============================================\n",
        "for df in [train_df, test_df]:\n",
        "    df.index = pd.to_datetime(df.index)  # 念のため\n",
        "    df['month']   = df.index.month       # ←ここを追加！\n",
        "    df['hour']    = df.index.hour\n",
        "    df['weekday'] = df.index.dayofweek\n",
        "    df['day_cat'] = df.index.day.map(lambda d: 0 if d <= 10 else 1 if d <= 20 else 2)\n",
        "# month は one-hot に\n",
        "train_df = pd.get_dummies(train_df, columns=['month'], prefix='month', drop_first=True)\n",
        "test_df  = pd.get_dummies(test_df,  columns=['month'], prefix='month', drop_first=True)"
      ],
      "metadata": {
        "colab": {
          "base_uri": "https://localhost:8080/"
        },
        "id": "xNTw5dRGEuCe",
        "outputId": "346bd40a-04da-41cd-90f1-a4b3e6250001"
      },
      "execution_count": 40,
      "outputs": [
        {
          "output_type": "stream",
          "name": "stdout",
          "text": [
            "選択された特徴量: ['generation_biomass', 'generation_fossil_brown_coal/lignite', 'generation_fossil_gas', 'generation_fossil_hard_coal', 'generation_fossil_oil', 'generation_hydro_pumped_storage_consumption', 'generation_hydro_run_of_river_and_poundage', 'total_load_actual', 'valencia_wind_speed', 'madrid_wind_speed', 'bilbao_pressure', 'bilbao_wind_speed', 'bilbao_clouds_all', 'barcelona_pressure', 'barcelona_wind_speed', 'seville_pressure', 'seville_wind_deg', 'generation_sum']\n"
          ]
        }
      ]
    },
    {
      "cell_type": "markdown",
      "source": [
        "# 8.学習／検証データの準備"
      ],
      "metadata": {
        "id": "PfqCv0ijFOM0"
      }
    },
    {
      "cell_type": "code",
      "source": [
        "X = train_df[use_cols + ['hour','weekday','day_cat'] + [c for c in train_df.columns if c.startswith('month_')]]\n",
        "y = train_df['price_actual']\n",
        "X_test = test_df[X.columns]  # テストデータの列順を合わせる\n",
        "\n",
        "X_train = X[train_df.index.year < 2017]\n",
        "y_train = y[train_df.index.year < 2017]\n",
        "X_val   = X[train_df.index.year == 2017]\n",
        "y_val   = y[train_df.index.year == 2017]\n",
        "\n",
        "print(\"train:\", X_train.shape, \"val:\", X_val.shape, \"test:\", X_test.shape)"
      ],
      "metadata": {
        "id": "KIQ-glPpEweF",
        "outputId": "93396e09-34f3-4d27-8da3-35fac484f8e3",
        "colab": {
          "base_uri": "https://localhost:8080/"
        }
      },
      "execution_count": 41,
      "outputs": [
        {
          "output_type": "stream",
          "name": "stdout",
          "text": [
            "train: (17520, 32) val: (8760, 32) test: (8760, 32)\n"
          ]
        }
      ]
    },
    {
      "cell_type": "markdown",
      "source": [
        "# 9. Optuna によるパラメータチューニング"
      ],
      "metadata": {
        "id": "Kgev0x-kFPg7"
      }
    },
    {
      "cell_type": "code",
      "source": [
        "def objective(trial):\n",
        "    params = {\n",
        "        'objective':        'reg:quantileerror',\n",
        "        'eval_metric':      'rmse',\n",
        "        'learning_rate':    trial.suggest_float('learning_rate', 0.001, 0.2),\n",
        "        'n_estimators':     trial.suggest_int('n_estimators', 100, 1000),\n",
        "        'max_depth':        trial.suggest_int('max_depth', 5, 10),\n",
        "        'min_child_weight': trial.suggest_int('min_child_weight', 1, 10),\n",
        "        'gamma':            trial.suggest_float('gamma', 0.001, 0.1),\n",
        "        'subsample':        trial.suggest_float('subsample', 0.5, 1.0),\n",
        "        'colsample_bytree': trial.suggest_float('colsample_bytree', 0.5, 1.0),\n",
        "        'lambda':           trial.suggest_float('lambda', 0.001, 1.0),\n",
        "        'quantile_alpha':   trial.suggest_float('quantile_alpha', 0.7, 0.9),\n",
        "        'verbosity':        0,\n",
        "        'random_state':     CFG.seed\n",
        "    }\n",
        "    model = XGBRegressor(**params)\n",
        "    model.fit(X_train, y_train)\n",
        "    preds = model.predict(X_val)\n",
        "    # RMSE を自前で計算\n",
        "    rmse = np.sqrt(mean_squared_error(y_val, preds))\n",
        "    return rmse\n",
        "\n",
        "study = optuna.create_study(direction='minimize',\n",
        "                            sampler=optuna.samplers.TPESampler(seed=CFG.seed))\n",
        "study.optimize(objective, n_trials=CFG.optuna_trials)\n",
        "best_params = study.best_params\n",
        "print(\"Best Params:\", best_params)"
      ],
      "metadata": {
        "colab": {
          "base_uri": "https://localhost:8080/"
        },
        "id": "8rJWMv2JEx8O",
        "outputId": "4ca99b31-44ec-448c-af72-12623f3d91a1"
      },
      "execution_count": 43,
      "outputs": [
        {
          "output_type": "stream",
          "name": "stderr",
          "text": [
            "[I 2025-06-17 04:01:17,143] A new study created in memory with name: no-name-6d3bde41-a703-4bf8-8f17-8cf395f05840\n",
            "[I 2025-06-17 04:01:28,572] Trial 0 finished with value: 9.769733762645801 and parameters: {'learning_rate': 0.07553348365062514, 'n_estimators': 956, 'max_depth': 9, 'min_child_weight': 6, 'gamma': 0.016445845403801215, 'subsample': 0.5779972601681014, 'colsample_bytree': 0.5290418060840998, 'lambda': 0.8663099696291603, 'quantile_alpha': 0.8202230023486418}. Best is trial 0 with value: 9.769733762645801.\n",
            "[I 2025-06-17 04:01:32,571] Trial 1 finished with value: 9.461384977581444 and parameters: {'learning_rate': 0.14190644298141306, 'n_estimators': 118, 'max_depth': 10, 'min_child_weight': 9, 'gamma': 0.022021571957149343, 'subsample': 0.5909124836035503, 'colsample_bytree': 0.5917022549267169, 'lambda': 0.3049380007165782, 'quantile_alpha': 0.8049512863264475}. Best is trial 1 with value: 9.461384977581444.\n",
            "[I 2025-06-17 04:01:36,685] Trial 2 finished with value: 10.616444918454345 and parameters: {'learning_rate': 0.08695705870978104, 'n_estimators': 362, 'max_depth': 8, 'min_child_weight': 2, 'gamma': 0.0299223202049866, 'subsample': 0.6831809216468459, 'colsample_bytree': 0.728034992108518, 'lambda': 0.7853907854316206, 'quantile_alpha': 0.739934756431672}. Best is trial 1 with value: 9.461384977581444.\n",
            "[I 2025-06-17 04:01:40,360] Trial 3 finished with value: 9.803442790582796 and parameters: {'learning_rate': 0.10333265324430871, 'n_estimators': 633, 'max_depth': 5, 'min_child_weight': 7, 'gamma': 0.017881888245041864, 'subsample': 0.5325257964926398, 'colsample_bytree': 0.9744427686266666, 'lambda': 0.9656664010414848, 'quantile_alpha': 0.8616794696232922}. Best is trial 1 with value: 9.461384977581444.\n",
            "[I 2025-06-17 04:01:45,523] Trial 4 finished with value: 9.8631051742843 and parameters: {'learning_rate': 0.06161814006550077, 'n_estimators': 188, 'max_depth': 9, 'min_child_weight': 5, 'gamma': 0.013081785249633104, 'subsample': 0.7475884550556351, 'colsample_bytree': 0.5171942605576092, 'lambda': 0.9094110816767033, 'quantile_alpha': 0.7517559963200033}. Best is trial 1 with value: 9.461384977581444.\n",
            "[I 2025-06-17 04:01:49,888] Trial 5 finished with value: 9.933915860665083 and parameters: {'learning_rate': 0.13284193458644242, 'n_estimators': 380, 'max_depth': 8, 'min_child_weight': 6, 'gamma': 0.01930059109702718, 'subsample': 0.9847923138822793, 'colsample_bytree': 0.8875664116805573, 'lambda': 0.9395594426226249, 'quantile_alpha': 0.8789654700855298}. Best is trial 1 with value: 9.461384977581444.\n",
            "[I 2025-06-17 04:01:57,979] Trial 6 finished with value: 9.703577529112154 and parameters: {'learning_rate': 0.11998209578340595, 'n_estimators': 930, 'max_depth': 5, 'min_child_weight': 2, 'gamma': 0.0054775016021432685, 'subsample': 0.6626651653816322, 'colsample_bytree': 0.6943386448447411, 'lambda': 0.272077682742122, 'quantile_alpha': 0.8657475018303858}. Best is trial 1 with value: 9.461384977581444.\n",
            "[I 2025-06-17 04:02:02,449] Trial 7 finished with value: 10.848246891821317 and parameters: {'learning_rate': 0.07199391201202428, 'n_estimators': 353, 'max_depth': 8, 'min_child_weight': 2, 'gamma': 0.08041750109464993, 'subsample': 0.5372753218398854, 'colsample_bytree': 0.9934434683002586, 'lambda': 0.7724725245273608, 'quantile_alpha': 0.7397431363068344}. Best is trial 1 with value: 9.461384977581444.\n",
            "[I 2025-06-17 04:02:15,138] Trial 8 finished with value: 10.855994681940349 and parameters: {'learning_rate': 0.0020989013075968775, 'n_estimators': 834, 'max_depth': 9, 'min_child_weight': 8, 'gamma': 0.07735576432190863, 'subsample': 0.5370223258670452, 'colsample_bytree': 0.6792328642721364, 'lambda': 0.11675319046560459, 'quantile_alpha': 0.8726206851751187}. Best is trial 1 with value: 9.461384977581444.\n",
            "[I 2025-06-17 04:02:17,775] Trial 9 finished with value: 10.54045496802027 and parameters: {'learning_rate': 0.12503632723868402, 'n_estimators': 398, 'max_depth': 5, 'min_child_weight': 4, 'gamma': 0.03319314888064796, 'subsample': 0.864803089169032, 'colsample_bytree': 0.8187787356776066, 'lambda': 0.8873255298337502, 'quantile_alpha': 0.7944429850323899}. Best is trial 1 with value: 9.461384977581444.\n",
            "[I 2025-06-17 04:02:19,339] Trial 10 finished with value: 9.856093839071017 and parameters: {'learning_rate': 0.19361966794742647, 'n_estimators': 105, 'max_depth': 10, 'min_child_weight': 10, 'gamma': 0.05502610972813932, 'subsample': 0.8451235367845725, 'colsample_bytree': 0.6277217293825994, 'lambda': 0.40462204594662615, 'quantile_alpha': 0.7958590345471895}. Best is trial 1 with value: 9.461384977581444.\n",
            "[I 2025-06-17 04:02:26,594] Trial 11 finished with value: 10.271165000937497 and parameters: {'learning_rate': 0.1660754000785636, 'n_estimators': 705, 'max_depth': 6, 'min_child_weight': 10, 'gamma': 0.004106541290140963, 'subsample': 0.6528046433212805, 'colsample_bytree': 0.6200332915693267, 'lambda': 0.3118414669091569, 'quantile_alpha': 0.836672236374731}. Best is trial 1 with value: 9.461384977581444.\n",
            "[I 2025-06-17 04:02:32,329] Trial 12 finished with value: 9.516081307687914 and parameters: {'learning_rate': 0.15910036640966405, 'n_estimators': 954, 'max_depth': 6, 'min_child_weight': 1, 'gamma': 0.047401816669896374, 'subsample': 0.6372424866412405, 'colsample_bytree': 0.5908193265646629, 'lambda': 0.16666349135116426, 'quantile_alpha': 0.894237769842007}. Best is trial 1 with value: 9.461384977581444.\n",
            "[I 2025-06-17 04:02:39,033] Trial 13 finished with value: 9.43320241638315 and parameters: {'learning_rate': 0.1596701250059149, 'n_estimators': 542, 'max_depth': 7, 'min_child_weight': 8, 'gamma': 0.05461155013343017, 'subsample': 0.6123366282341044, 'colsample_bytree': 0.6156107695262124, 'lambda': 0.07960100675831383, 'quantile_alpha': 0.8996215476767547}. Best is trial 13 with value: 9.43320241638315.\n",
            "[I 2025-06-17 04:02:44,825] Trial 14 finished with value: 10.949636231371844 and parameters: {'learning_rate': 0.1950743603464538, 'n_estimators': 593, 'max_depth': 7, 'min_child_weight': 8, 'gamma': 0.0598854256942808, 'subsample': 0.7389257673251317, 'colsample_bytree': 0.7793992915216572, 'lambda': 0.5530779210033835, 'quantile_alpha': 0.7704523333515815}. Best is trial 13 with value: 9.43320241638315.\n",
            "[I 2025-06-17 04:02:53,503] Trial 15 finished with value: 9.817110563986342 and parameters: {'learning_rate': 0.16116144827436282, 'n_estimators': 500, 'max_depth': 10, 'min_child_weight': 9, 'gamma': 0.04195410931727356, 'subsample': 0.6009005257027896, 'colsample_bytree': 0.5871980519538205, 'lambda': 0.011055686560193678, 'quantile_alpha': 0.833235804912272}. Best is trial 13 with value: 9.43320241638315.\n",
            "[I 2025-06-17 04:02:55,362] Trial 16 finished with value: 10.609578089989375 and parameters: {'learning_rate': 0.1490024609345404, 'n_estimators': 229, 'max_depth': 7, 'min_child_weight': 8, 'gamma': 0.06639932533701737, 'subsample': 0.8075427937703898, 'colsample_bytree': 0.5005761711343893, 'lambda': 0.5600562772036869, 'quantile_alpha': 0.7026358428761847}. Best is trial 13 with value: 9.43320241638315.\n",
            "[I 2025-06-17 04:03:03,838] Trial 17 finished with value: 9.183750462995732 and parameters: {'learning_rate': 0.0434433837905933, 'n_estimators': 773, 'max_depth': 7, 'min_child_weight': 9, 'gamma': 0.03651131288566989, 'subsample': 0.5915394636106673, 'colsample_bytree': 0.6601698676289584, 'lambda': 0.03726850841888624, 'quantile_alpha': 0.8987918161681497}. Best is trial 17 with value: 9.183750462995732.\n",
            "[I 2025-06-17 04:03:08,985] Trial 18 finished with value: 9.162592218343793 and parameters: {'learning_rate': 0.041713800779224576, 'n_estimators': 775, 'max_depth': 6, 'min_child_weight': 7, 'gamma': 0.07152434578566419, 'subsample': 0.7026649870563135, 'colsample_bytree': 0.6874363426907575, 'lambda': 0.042548423542451516, 'quantile_alpha': 0.8949919095096766}. Best is trial 18 with value: 9.162592218343793.\n",
            "[I 2025-06-17 04:03:17,428] Trial 19 finished with value: 9.599639751445562 and parameters: {'learning_rate': 0.03836905021828739, 'n_estimators': 771, 'max_depth': 6, 'min_child_weight': 4, 'gamma': 0.09662534997290885, 'subsample': 0.7214500029269031, 'colsample_bytree': 0.8195495335867687, 'lambda': 0.20617956665113002, 'quantile_alpha': 0.8489461379236934}. Best is trial 18 with value: 9.162592218343793.\n",
            "[I 2025-06-17 04:03:23,362] Trial 20 finished with value: 9.271018018911107 and parameters: {'learning_rate': 0.027341802386177005, 'n_estimators': 817, 'max_depth': 6, 'min_child_weight': 7, 'gamma': 0.09968214524731447, 'subsample': 0.9517544509454045, 'colsample_bytree': 0.6898190437249025, 'lambda': 0.012609340665925395, 'quantile_alpha': 0.8872784662276052}. Best is trial 18 with value: 9.162592218343793.\n",
            "[I 2025-06-17 04:03:31,907] Trial 21 finished with value: 9.120795474395466 and parameters: {'learning_rate': 0.025710529360416, 'n_estimators': 799, 'max_depth': 6, 'min_child_weight': 7, 'gamma': 0.09784318320952154, 'subsample': 0.9909063790162889, 'colsample_bytree': 0.6760386117655596, 'lambda': 0.018341045102262976, 'quantile_alpha': 0.8905283962103991}. Best is trial 21 with value: 9.120795474395466.\n",
            "[I 2025-06-17 04:03:37,957] Trial 22 finished with value: 9.576474408804499 and parameters: {'learning_rate': 0.04253758316737163, 'n_estimators': 686, 'max_depth': 7, 'min_child_weight': 7, 'gamma': 0.08252557668333266, 'subsample': 0.9101741335254196, 'colsample_bytree': 0.7626956691807315, 'lambda': 0.0998879200736198, 'quantile_alpha': 0.8592058960912644}. Best is trial 21 with value: 9.120795474395466.\n",
            "[I 2025-06-17 04:03:46,025] Trial 23 finished with value: 9.217769430521901 and parameters: {'learning_rate': 0.006718706501950444, 'n_estimators': 748, 'max_depth': 6, 'min_child_weight': 9, 'gamma': 0.09063474094441679, 'subsample': 0.8133001509596279, 'colsample_bytree': 0.6640721358749387, 'lambda': 0.4246401521048683, 'quantile_alpha': 0.8833036357575992}. Best is trial 21 with value: 9.120795474395466.\n",
            "[I 2025-06-17 04:03:52,099] Trial 24 finished with value: 9.07270800463954 and parameters: {'learning_rate': 0.02494543534568838, 'n_estimators': 879, 'max_depth': 6, 'min_child_weight': 6, 'gamma': 0.07217535297945527, 'subsample': 0.6979634247704674, 'colsample_bytree': 0.7292595494527905, 'lambda': 0.013813923296900118, 'quantile_alpha': 0.8973703941237114}. Best is trial 24 with value: 9.07270800463954.\n",
            "[I 2025-06-17 04:04:00,314] Trial 25 finished with value: 9.216735795166638 and parameters: {'learning_rate': 0.020860452200556923, 'n_estimators': 893, 'max_depth': 5, 'min_child_weight': 5, 'gamma': 0.06817510260439262, 'subsample': 0.7854403570813543, 'colsample_bytree': 0.7390310897251646, 'lambda': 0.19840978879854437, 'quantile_alpha': 0.8458729912138232}. Best is trial 24 with value: 9.07270800463954.\n",
            "[I 2025-06-17 04:04:06,434] Trial 26 finished with value: 9.581787839354693 and parameters: {'learning_rate': 0.05337777062613995, 'n_estimators': 859, 'max_depth': 6, 'min_child_weight': 6, 'gamma': 0.07336898578630752, 'subsample': 0.7012707508443761, 'colsample_bytree': 0.8034334467912135, 'lambda': 0.1400869222410456, 'quantile_alpha': 0.8806226524204331}. Best is trial 24 with value: 9.07270800463954.\n",
            "[I 2025-06-17 04:04:13,104] Trial 27 finished with value: 9.089110639234471 and parameters: {'learning_rate': 0.01988560209629664, 'n_estimators': 673, 'max_depth': 5, 'min_child_weight': 4, 'gamma': 0.088239720121044, 'subsample': 0.7672087133040767, 'colsample_bytree': 0.7163068971404692, 'lambda': 0.23911318557009678, 'quantile_alpha': 0.8556851502103257}. Best is trial 24 with value: 9.07270800463954.\n",
            "[I 2025-06-17 04:04:20,732] Trial 28 finished with value: 9.538093308929886 and parameters: {'learning_rate': 0.018505965683517714, 'n_estimators': 989, 'max_depth': 5, 'min_child_weight': 4, 'gamma': 0.08796308786275524, 'subsample': 0.9012785097952853, 'colsample_bytree': 0.8593109853309648, 'lambda': 0.24556689442745522, 'quantile_alpha': 0.824724213632983}. Best is trial 24 with value: 9.07270800463954.\n",
            "[I 2025-06-17 04:04:26,251] Trial 29 finished with value: 9.775674394313508 and parameters: {'learning_rate': 0.08480769524167053, 'n_estimators': 639, 'max_depth': 5, 'min_child_weight': 3, 'gamma': 0.09011450441450007, 'subsample': 0.7871654326573406, 'colsample_bytree': 0.7229772666186618, 'lambda': 0.39788195718068947, 'quantile_alpha': 0.8524329544548203}. Best is trial 24 with value: 9.07270800463954.\n",
            "[I 2025-06-17 04:04:29,363] Trial 30 finished with value: 8.912808285006061 and parameters: {'learning_rate': 0.012595967756143741, 'n_estimators': 501, 'max_depth': 5, 'min_child_weight': 5, 'gamma': 0.0855218837128587, 'subsample': 0.9905858339222093, 'colsample_bytree': 0.5615546708760337, 'lambda': 0.6255144534471777, 'quantile_alpha': 0.8116417816317152}. Best is trial 30 with value: 8.912808285006061.\n",
            "[I 2025-06-17 04:04:32,309] Trial 31 finished with value: 8.920926711257993 and parameters: {'learning_rate': 0.011792025633289576, 'n_estimators': 470, 'max_depth': 5, 'min_child_weight': 5, 'gamma': 0.08491689151719448, 'subsample': 0.9991417930830016, 'colsample_bytree': 0.5504183919042487, 'lambda': 0.6218527595166496, 'quantile_alpha': 0.8113760393275691}. Best is trial 30 with value: 8.912808285006061.\n",
            "[I 2025-06-17 04:04:37,960] Trial 32 finished with value: 8.924745146400772 and parameters: {'learning_rate': 0.011115682102312547, 'n_estimators': 466, 'max_depth': 5, 'min_child_weight': 5, 'gamma': 0.08620702334115868, 'subsample': 0.9457418019898414, 'colsample_bytree': 0.5401078790255565, 'lambda': 0.6606848781110195, 'quantile_alpha': 0.8071834465739063}. Best is trial 30 with value: 8.912808285006061.\n",
            "[I 2025-06-17 04:04:40,859] Trial 33 finished with value: 9.095438771276783 and parameters: {'learning_rate': 0.008413678584669026, 'n_estimators': 472, 'max_depth': 5, 'min_child_weight': 5, 'gamma': 0.08263414227044959, 'subsample': 0.945757678035188, 'colsample_bytree': 0.5636530179979327, 'lambda': 0.7079519982262532, 'quantile_alpha': 0.8037233681235062}. Best is trial 30 with value: 8.912808285006061.\n",
            "[I 2025-06-17 04:04:43,670] Trial 34 finished with value: 9.088852254405774 and parameters: {'learning_rate': 0.011237207413177356, 'n_estimators': 458, 'max_depth': 5, 'min_child_weight': 6, 'gamma': 0.07711718592763066, 'subsample': 0.9522720197654564, 'colsample_bytree': 0.5546007056691016, 'lambda': 0.6507966825057687, 'quantile_alpha': 0.7806182591076715}. Best is trial 30 with value: 8.912808285006061.\n",
            "[I 2025-06-17 04:04:45,718] Trial 35 finished with value: 9.359201940290012 and parameters: {'learning_rate': 0.0583983245474463, 'n_estimators': 312, 'max_depth': 5, 'min_child_weight': 5, 'gamma': 0.0657300106843235, 'subsample': 0.9995940770516187, 'colsample_bytree': 0.5448871765909736, 'lambda': 0.6372118181838728, 'quantile_alpha': 0.8215128695867068}. Best is trial 30 with value: 8.912808285006061.\n",
            "[I 2025-06-17 04:04:51,172] Trial 36 finished with value: 9.663692053509779 and parameters: {'learning_rate': 0.032125310747469965, 'n_estimators': 421, 'max_depth': 5, 'min_child_weight': 3, 'gamma': 0.09407665514261836, 'subsample': 0.919294395525811, 'colsample_bytree': 0.5340675583719839, 'lambda': 0.8069778404232437, 'quantile_alpha': 0.7801783579789706}. Best is trial 30 with value: 8.912808285006061.\n",
            "[I 2025-06-17 04:04:55,524] Trial 37 finished with value: 10.495894661954248 and parameters: {'learning_rate': 0.10764600344848506, 'n_estimators': 532, 'max_depth': 6, 'min_child_weight': 5, 'gamma': 0.08402560410870342, 'subsample': 0.9597775068146595, 'colsample_bytree': 0.9384823684562815, 'lambda': 0.5220790946482654, 'quantile_alpha': 0.812634558567646}. Best is trial 30 with value: 8.912808285006061.\n",
            "[I 2025-06-17 04:04:57,359] Trial 38 finished with value: 10.263954261383454 and parameters: {'learning_rate': 0.06749617757170089, 'n_estimators': 286, 'max_depth': 5, 'min_child_weight': 6, 'gamma': 0.061828976138583965, 'subsample': 0.8752593042874252, 'colsample_bytree': 0.5138919554586693, 'lambda': 0.6064764942862775, 'quantile_alpha': 0.7539130489919198}. Best is trial 30 with value: 8.912808285006061.\n",
            "[I 2025-06-17 04:05:03,959] Trial 39 finished with value: 9.792986199136644 and parameters: {'learning_rate': 0.05060608183010982, 'n_estimators': 584, 'max_depth': 5, 'min_child_weight': 3, 'gamma': 0.07464102230527568, 'subsample': 0.976182007482798, 'colsample_bytree': 0.5723006415063202, 'lambda': 0.7140048898326194, 'quantile_alpha': 0.8111494391893571}. Best is trial 30 with value: 8.912808285006061.\n",
            "[I 2025-06-17 04:05:07,266] Trial 40 finished with value: 12.490008338227367 and parameters: {'learning_rate': 0.0017483228879803074, 'n_estimators': 443, 'max_depth': 6, 'min_child_weight': 6, 'gamma': 0.0931618074035266, 'subsample': 0.9312506555946661, 'colsample_bytree': 0.6356766198813223, 'lambda': 0.4698626903559138, 'quantile_alpha': 0.8309591641651418}. Best is trial 30 with value: 8.912808285006061.\n",
            "[I 2025-06-17 04:05:10,299] Trial 41 finished with value: 9.138394616005371 and parameters: {'learning_rate': 0.013626319902475882, 'n_estimators': 485, 'max_depth': 5, 'min_child_weight': 6, 'gamma': 0.07990113611693123, 'subsample': 0.9688670982732668, 'colsample_bytree': 0.5548204794909448, 'lambda': 0.6515075006828556, 'quantile_alpha': 0.7798700028550177}. Best is trial 30 with value: 8.912808285006061.\n",
            "[I 2025-06-17 04:05:15,846] Trial 42 finished with value: 9.594189022897599 and parameters: {'learning_rate': 0.03130540004381827, 'n_estimators': 450, 'max_depth': 5, 'min_child_weight': 5, 'gamma': 0.07753656088621469, 'subsample': 0.885483403782533, 'colsample_bytree': 0.5259411703114597, 'lambda': 0.7169691722769336, 'quantile_alpha': 0.7868488414232485}. Best is trial 30 with value: 8.912808285006061.\n",
            "[I 2025-06-17 04:05:18,076] Trial 43 finished with value: 9.204862386352836 and parameters: {'learning_rate': 0.012817970745143107, 'n_estimators': 346, 'max_depth': 5, 'min_child_weight': 6, 'gamma': 0.08564763566172857, 'subsample': 0.9298805517496702, 'colsample_bytree': 0.5934002602349235, 'lambda': 0.8135463579390766, 'quantile_alpha': 0.7560563744622086}. Best is trial 30 with value: 8.912808285006061.\n",
            "[I 2025-06-17 04:05:21,641] Trial 44 finished with value: 9.284587845341816 and parameters: {'learning_rate': 0.012644892061202432, 'n_estimators': 583, 'max_depth': 5, 'min_child_weight': 4, 'gamma': 0.07145956746817307, 'subsample': 0.850757236570864, 'colsample_bytree': 0.5511778009454268, 'lambda': 0.6649409252352676, 'quantile_alpha': 0.7663872406597573}. Best is trial 30 with value: 8.912808285006061.\n",
            "[I 2025-06-17 04:05:30,699] Trial 45 finished with value: 9.993793488079728 and parameters: {'learning_rate': 0.003275687145346238, 'n_estimators': 393, 'max_depth': 9, 'min_child_weight': 5, 'gamma': 0.07597822372591742, 'subsample': 0.9763352809965448, 'colsample_bytree': 0.6067202252189036, 'lambda': 0.5922420458928134, 'quantile_alpha': 0.7286676592288954}. Best is trial 30 with value: 8.912808285006061.\n",
            "[I 2025-06-17 04:05:34,575] Trial 46 finished with value: 9.790707946446792 and parameters: {'learning_rate': 0.033741415981179426, 'n_estimators': 522, 'max_depth': 6, 'min_child_weight': 7, 'gamma': 0.07919390424586466, 'subsample': 0.9947031399775046, 'colsample_bytree': 0.6477880741370472, 'lambda': 0.7553968668266839, 'quantile_alpha': 0.7922689293123243}. Best is trial 30 with value: 8.912808285006061.\n",
            "[I 2025-06-17 04:05:36,375] Trial 47 finished with value: 9.7664911826267 and parameters: {'learning_rate': 0.08181902861789382, 'n_estimators': 270, 'max_depth': 5, 'min_child_weight': 5, 'gamma': 0.0622878665081012, 'subsample': 0.9429845208167715, 'colsample_bytree': 0.5751515095385163, 'lambda': 0.34448518066234074, 'quantile_alpha': 0.8084216984010453}. Best is trial 30 with value: 8.912808285006061.\n",
            "[I 2025-06-17 04:05:39,162] Trial 48 finished with value: 9.15206879069127 and parameters: {'learning_rate': 0.020007011110790642, 'n_estimators': 421, 'max_depth': 5, 'min_child_weight': 6, 'gamma': 0.0929542368383751, 'subsample': 0.8924406977424074, 'colsample_bytree': 0.5189294977522637, 'lambda': 0.862104438498258, 'quantile_alpha': 0.7994923631481035}. Best is trial 30 with value: 8.912808285006061.\n",
            "[I 2025-06-17 04:05:45,663] Trial 49 finished with value: 9.45296168801698 and parameters: {'learning_rate': 0.04901414131247424, 'n_estimators': 612, 'max_depth': 6, 'min_child_weight': 4, 'gamma': 0.05625394458044894, 'subsample': 0.6820280577968075, 'colsample_bytree': 0.5006052572193879, 'lambda': 0.49368263036741733, 'quantile_alpha': 0.8415939184019456}. Best is trial 30 with value: 8.912808285006061.\n"
          ]
        },
        {
          "output_type": "stream",
          "name": "stdout",
          "text": [
            "Best Params: {'learning_rate': 0.012595967756143741, 'n_estimators': 501, 'max_depth': 5, 'min_child_weight': 5, 'gamma': 0.0855218837128587, 'subsample': 0.9905858339222093, 'colsample_bytree': 0.5615546708760337, 'lambda': 0.6255144534471777, 'quantile_alpha': 0.8116417816317152}\n"
          ]
        }
      ]
    },
    {
      "cell_type": "markdown",
      "source": [
        "# 10. ベストパラメータで最終モデル学習 → テスト予測\n"
      ],
      "metadata": {
        "id": "Eb1GfdCO_4tb"
      }
    },
    {
      "cell_type": "code",
      "source": [
        "model = XGBRegressor(\n",
        "    objective='reg:quantileerror',\n",
        "    eval_metric='rmse',\n",
        "    verbosity=0,\n",
        "    random_state=CFG.seed,\n",
        "    **best_params\n",
        ")\n",
        "model.fit(X, y)\n",
        "y_test_pred = model.predict(X_test)"
      ],
      "metadata": {
        "id": "zOw68NFY_Ze0"
      },
      "execution_count": 44,
      "outputs": []
    },
    {
      "cell_type": "markdown",
      "source": [
        "# 11. Submission ファイル出力"
      ],
      "metadata": {
        "id": "qgQ4CfGfFQs1"
      }
    },
    {
      "cell_type": "code",
      "source": [
        "sub = pd.read_csv(CFG.data_path + 'sample_submit.csv', header=None)\n",
        "sub[1] = y_test_pred\n",
        "sub.to_csv('submission.csv', header=False, index=False)\n",
        "print(\">>> submission.csv を出力しました\")"
      ],
      "metadata": {
        "colab": {
          "base_uri": "https://localhost:8080/"
        },
        "id": "SQYxehpDEz2r",
        "outputId": "a4159da5-3a4b-4dec-f153-d361f66540b5"
      },
      "execution_count": 45,
      "outputs": [
        {
          "output_type": "stream",
          "name": "stdout",
          "text": [
            ">>> submission.csv を出力しました\n"
          ]
        }
      ]
    }
  ]
}